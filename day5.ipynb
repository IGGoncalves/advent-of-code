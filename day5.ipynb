{
 "cells": [
  {
   "cell_type": "markdown",
   "id": "fb9ba770",
   "metadata": {},
   "source": [
    "# Day 5: Hydrothermal Venture"
   ]
  },
  {
   "cell_type": "code",
   "execution_count": 116,
   "id": "ce9a9212",
   "metadata": {},
   "outputs": [
    {
     "data": {
      "text/plain": [
       "[(1, 0), (2, 2)]"
      ]
     },
     "execution_count": 116,
     "metadata": {},
     "output_type": "execute_result"
    }
   ],
   "source": [
    "from dataclasses import dataclass\n",
    "\n",
    "@dataclass\n",
    "class Line:\n",
    "    point1: tuple\n",
    "    point2: tuple\n",
    "        \n",
    "    def get_covered_points(self):\n",
    "        covered_points = []\n",
    "        covered_points.append(self.point1)\n",
    "        # Horizontal lines\n",
    "        if self.point1[0] == self.point2[0]:\n",
    "            distance = self.point2[1] - self.point1[1]\n",
    "            # Horizontal left to right\n",
    "            if distance > 0:\n",
    "                for i in range(self.point1[1]+1, self.point2[1]):\n",
    "                    covered_points.append((self.point1[0], i))\n",
    "            # Horizontal right to left\n",
    "            else:\n",
    "                for i in range(self.point1[1]-1, self.point2[1], -1):\n",
    "                    covered_points.append((self.point1[0], i))\n",
    "        \n",
    "        # Vertical lines\n",
    "        if self.point1[1] == self.point2[1]:\n",
    "            distance = self.point2[0] - self.point1[0]\n",
    "            # Down -> up\n",
    "            if distance > 0:\n",
    "                for i in range(self.point1[0]+1, self.point2[0]):\n",
    "                    covered_points.append((i, self.point1[1]))\n",
    "            # Up -> Doown\n",
    "            else:\n",
    "                for i in range(self.point1[0]-1, self.point2[0], -1):\n",
    "                    covered_points.append((i, self.point1[1]))\n",
    "        if abs(self.point1[1] - self.point2[1]) == abs(self.point1[0] - self.point2[0]):\n",
    "            y_distance = self.point2[1] - self.point1[1]\n",
    "            x_distance = self.point2[0] - self.point1[0]\n",
    "            \n",
    "            # Right\n",
    "            if x_distance > 0:\n",
    "                # Up\n",
    "                if y_distance > 0:\n",
    "                    for i in range(1, x_distance):\n",
    "                        x = self.point1[0] + i\n",
    "                        y = self.point1[1] + i\n",
    "                        covered_points.append((x, y))\n",
    "                # Down\n",
    "                else:\n",
    "                    for i in range(1, x_distance):\n",
    "                        x = self.point1[0] + i\n",
    "                        y = self.point1[1] - i\n",
    "                        covered_points.append((x, y))\n",
    "            # Left\n",
    "            else:\n",
    "                if y_distance > 0:\n",
    "                    for i in range(1, y_distance):\n",
    "                        x = self.point1[0] - i\n",
    "                        y = self.point1[1] + i\n",
    "                        covered_points.append((x, y))\n",
    "                else:\n",
    "                    for i in range(1, abs(y_distance)):\n",
    "                        x = self.point1[0] - i\n",
    "                        y = self.point1[1] - i\n",
    "                        covered_points.append((x, y))\n",
    "                    \n",
    "        covered_points.append(self.point2)\n",
    "        return covered_points\n",
    "\n",
    "with open(\"src/day5/input.txt\") as fileobject:\n",
    "    lines = fileobject.read().splitlines()\n",
    "    max_x_point = 0\n",
    "    max_y_point = 0\n",
    "    line_objects = []\n",
    "    for line in lines:\n",
    "        points = [(int(row.split(',')[0]), int(row.split(',')[1]))\n",
    "                  for row in line.split(\" -> \")]\n",
    "        line_object = Line(points[0], points[1])\n",
    "        line_objects.append(line_object)\n",
    "        max_x_in_row = max(points[0][0], points[1][0])\n",
    "        max_x_point = max(max_x_in_row, max_x_point)\n",
    "        max_y_in_row = max(points[0][1], points[1][1])\n",
    "        max_y_point = max(max_y_in_row, max_y_point)\n",
    "        \n",
    "line_object = Line((1,0), (2,2))\n",
    "line_object.get_covered_points()"
   ]
  },
  {
   "cell_type": "code",
   "execution_count": 117,
   "id": "8493d4dd",
   "metadata": {},
   "outputs": [
    {
     "data": {
      "text/plain": [
       "21698"
      ]
     },
     "execution_count": 117,
     "metadata": {},
     "output_type": "execute_result"
    }
   ],
   "source": [
    "table = [[0 for _ in range(max_x_point+1)] for _ in range(max_y_point+1)]\n",
    "\n",
    "for line in line_objects:\n",
    "\n",
    "        for point in line.get_covered_points():\n",
    "            table[point[1]][point[0]] += 1\n",
    "        \n",
    "most_dangerous_number = 2\n",
    "most_dangerous_occurrences = len([item for row in table for item in row\n",
    "                                  if item >= most_dangerous_number])\n",
    "most_dangerous_occurrences"
   ]
  },
  {
   "cell_type": "code",
   "execution_count": 94,
   "id": "a4166d0a",
   "metadata": {},
   "outputs": [
    {
     "data": {
      "text/plain": [
       "5294"
      ]
     },
     "execution_count": 94,
     "metadata": {},
     "output_type": "execute_result"
    }
   ],
   "source": []
  }
 ],
 "metadata": {
  "kernelspec": {
   "display_name": "Python 3",
   "language": "python",
   "name": "python3"
  },
  "language_info": {
   "codemirror_mode": {
    "name": "ipython",
    "version": 3
   },
   "file_extension": ".py",
   "mimetype": "text/x-python",
   "name": "python",
   "nbconvert_exporter": "python",
   "pygments_lexer": "ipython3",
   "version": "3.8.10"
  }
 },
 "nbformat": 4,
 "nbformat_minor": 5
}
