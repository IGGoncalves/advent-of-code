{
 "cells": [
  {
   "cell_type": "markdown",
   "id": "54133b6f",
   "metadata": {},
   "source": [
    "# 🌋 Day 9: Smoke Basins\n",
    "\n",
    "*Parts are even still volcanically active; small hydrothermal vents release smoke into the caves that slowly settles like rain.*\n",
    "\n",
    "## Part 1"
   ]
  },
  {
   "cell_type": "code",
   "execution_count": 100,
   "id": "17ae006f",
   "metadata": {},
   "outputs": [],
   "source": [
    "with open(\"src/day9/input.txt\") as fileobject:\n",
    "    lines = fileobject.read().splitlines()\n",
    "    heatmap = [[int(char) for char in line] for line in lines]"
   ]
  },
  {
   "cell_type": "code",
   "execution_count": 101,
   "id": "134ec88b",
   "metadata": {},
   "outputs": [
    {
     "name": "stdout",
     "output_type": "stream",
     "text": [
      "The risk level is 502\n"
     ]
    }
   ],
   "source": [
    "def get_neighbors(i: int, j: int, heatmap: list) -> list:\n",
    "    \"\"\"Returns the neighbors of a given position in the heatmap\"\"\"\n",
    "    neighbors = []\n",
    "    if j > 0:\n",
    "        neighbors.append(heatmap[i][j-1])\n",
    "    if j < len(row) - 1:\n",
    "        neighbors.append(heatmap[i][j+1])\n",
    "    if i > 0:\n",
    "        neighbors.append(heatmap[i-1][j])\n",
    "    if i < len(heatmap) - 1:\n",
    "        neighbors.append(heatmap[i+1][j])\n",
    "        \n",
    "    return neighbors\n",
    "\n",
    "\n",
    "lowest_values = []\n",
    "risk_level = 0\n",
    "\n",
    "# Iterate through heatmap to find the lowest values\n",
    "for i, row in enumerate(heatmap):\n",
    "    for j, column in enumerate(row):\n",
    "        # Gather the neighbors\n",
    "        neighbors = get_neighbors(i, j, heatmap)\n",
    "        # Check if the current point is a low point\n",
    "        if column < min(neighbors):\n",
    "            lowest_values.append((i,j))\n",
    "            risk_level += column + 1\n",
    "            \n",
    "print(f\"The risk level is {risk_level}\")"
   ]
  },
  {
   "cell_type": "markdown",
   "id": "127b1fc2",
   "metadata": {},
   "source": [
    "## Part 2"
   ]
  },
  {
   "cell_type": "code",
   "execution_count": 102,
   "id": "31dc9f7d",
   "metadata": {},
   "outputs": [],
   "source": [
    "def extend_basin(i: int, j: int, heatmap: list, basin: list) -> list:\n",
    "    \"\"\"Goes through the basin and extends it until all neighbors are peaks\"\"\"\n",
    "    # Go left if left is not part of the basin already\n",
    "    if j > 0 and (i, j-1) not in basin:\n",
    "        # Check if left is a peak. If not, extend the basin based on this point\n",
    "        if heatmap[i][j-1] < 9:\n",
    "            # Make sure that we don't go back to this point when we check again\n",
    "            basin.append((i, j-1))\n",
    "            extend_basin(i, j-1, heatmap, basin)\n",
    "    \n",
    "    #Go right with same strategy\n",
    "    if j < len(row) - 1 and (i, j+1) not in basin:\n",
    "        if heatmap[i][j+1] < 9:\n",
    "            basin.append((i, j+1))\n",
    "            extend_basin(i, j+1, heatmap, basin)\n",
    "    \n",
    "    # Go up with the same strategy\n",
    "    if i > 0 and (i-1, j) not in basin:\n",
    "        if heatmap[i-1][j] < 9:\n",
    "            basin.append((i-1, j))\n",
    "            extend_basin(i-1, j, heatmap, basin)\n",
    "            \n",
    "    # Go down with the same strategy\n",
    "    if i < len(heatmap) - 1 and (i+1, j) not in basin:\n",
    "        if heatmap[i+1][j] < 9:\n",
    "            basin.append((i+1, j))\n",
    "            extend_basin(i+1, j, heatmap, basin)\n",
    "            \n",
    "    return basin\n",
    "    \n",
    "# Map all basins\n",
    "basins = []\n",
    "for low_point in lowest_values:\n",
    "    basin = extend_basin(low_point[0], low_point[1], heatmap, \n",
    "                         [(low_point[0], low_point[1])])\n",
    "    \n",
    "    basins.append(len(basin))"
   ]
  },
  {
   "cell_type": "code",
   "execution_count": 103,
   "id": "15e3e3cc",
   "metadata": {},
   "outputs": [
    {
     "data": {
      "text/plain": [
       "1330560"
      ]
     },
     "execution_count": 103,
     "metadata": {},
     "output_type": "execute_result"
    }
   ],
   "source": [
    "import math \n",
    "\n",
    "# Calculate the product of the three largest basins\n",
    "math.prod(sorted(basins)[-3:])"
   ]
  }
 ],
 "metadata": {
  "kernelspec": {
   "display_name": "Python 3",
   "language": "python",
   "name": "python3"
  },
  "language_info": {
   "codemirror_mode": {
    "name": "ipython",
    "version": 3
   },
   "file_extension": ".py",
   "mimetype": "text/x-python",
   "name": "python",
   "nbconvert_exporter": "python",
   "pygments_lexer": "ipython3",
   "version": "3.8.10"
  }
 },
 "nbformat": 4,
 "nbformat_minor": 5
}
