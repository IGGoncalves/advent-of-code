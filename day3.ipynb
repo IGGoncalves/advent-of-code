{
 "cells": [
  {
   "cell_type": "markdown",
   "metadata": {},
   "source": [
    "# 💽 Day 3: Binary Diagnostic (aka Two to Make it Right)\n",
    "*The submarine has been making some odd creaking noises, so you ask it to produce a diagnostic report just in case.*\n",
    "\n",
    "## Part 1"
   ]
  },
  {
   "cell_type": "code",
   "execution_count": 57,
   "metadata": {},
   "outputs": [
    {
     "name": "stdout",
     "output_type": "stream",
     "text": [
      "I'm consuming 108 units\n"
     ]
    }
   ],
   "source": [
    "from collections import Counter\n",
    "\n",
    "def find_most_common(binary_string: list) -> str:\n",
    "    \"\"\"Returns the most common character in a list\"\"\"\n",
    "    count = Counter(binary_string)\n",
    "    return count.most_common(1)[0][0]\n",
    "\n",
    "def build_binary_strings(binary_input: list):\n",
    "    \"\"\"Builds strings with the most and least common characters\"\"\"\n",
    "    most_common = ''\n",
    "    least_common = ''\n",
    "    binary_dict = {'0': '1', '1': '0'}\n",
    "    number_of_characters = len(binary_input[0])\n",
    "\n",
    "    for i in range(number_of_characters):\n",
    "        most_common_char = find_most_common([sample[i] \n",
    "                                             for sample in binary_input])\n",
    "        \n",
    "        least_common_char = binary_dict[most_common_char]\n",
    "\n",
    "        most_common += most_common_char\n",
    "        least_common += least_common_char\n",
    "        \n",
    "    return most_common, least_common\n",
    "\n",
    "def compute_power_consumption(most_common_string: str, least_common_string: str) -> int:\n",
    "    \"\"\"Returns the gamma and epsilon values based on rules\"\"\"\n",
    "    gamma = int(most_common, 2)\n",
    "    epsilon = int(least_common, 2)\n",
    "    power_consumption = gamma * epsilon\n",
    "    \n",
    "    return power_consumption\n",
    "    \n",
    "\n",
    "binary_samples = [\"00100\", \"11110\"]\n",
    "most_common, least_common = build_binary_strings(binary_samples)                                        \n",
    "power_consumption = compute_power_consumption(most_common, least_common)\n",
    "print(f\"I'm consuming {power_consumption} units\")"
   ]
  },
  {
   "cell_type": "code",
   "execution_count": 56,
   "metadata": {},
   "outputs": [
    {
     "name": "stdout",
     "output_type": "stream",
     "text": [
      "I'm consuming 4139586 units\n"
     ]
    }
   ],
   "source": [
    "with open(\"day3/input.txt\", \"r\") as f:\n",
    "    input_list = f.read().splitlines() \n",
    "    \n",
    "most_common, least_common = build_binary_strings(input_list)\n",
    "power_consumption = compute_power_consumption(most_common, least_common)\n",
    "print(f\"I'm consuming {power_consumption} units\")"
   ]
  },
  {
   "cell_type": "markdown",
   "metadata": {},
   "source": [
    "## Part 2"
   ]
  },
  {
   "cell_type": "code",
   "execution_count": 127,
   "metadata": {},
   "outputs": [
    {
     "name": "stdout",
     "output_type": "stream",
     "text": [
      "1800151\n"
     ]
    }
   ],
   "source": [
    "with open(\"day3/input.txt\", \"r\") as f:\n",
    "    input_list = f.read().splitlines() \n",
    "\n",
    "binary_dict = {'0': '1', '1': '0'}\n",
    "number_of_characters = len(input_list[0])\n",
    "\n",
    "for i in range(number_of_characters):\n",
    "    bit_string = [sample[i] for sample in input_list]\n",
    "    count = Counter(bit_string)\n",
    "    if count.most_common(2)[0][1] == count.most_common(2)[1][1]:\n",
    "        most_common_char = '1'\n",
    "    else:\n",
    "        most_common_char = count.most_common(2)[0][0]\n",
    "    \n",
    "    input_list = [line for line in input_list if line[i] == most_common_char]\n",
    "\n",
    "oxygen = int(''.join([char for char in input_list]), 2)\n",
    "\n",
    "with open(\"day3/input.txt\", \"r\") as f:\n",
    "    input_list = f.read().splitlines() \n",
    "\n",
    "for i in range(number_of_characters):\n",
    "    bit_string = [sample[i] for sample in input_list]\n",
    "    count = Counter(bit_string)\n",
    "    if count.most_common(2)[0][1] == count.most_common(2)[1][1]:\n",
    "        most_common_char = '0'\n",
    "    else:\n",
    "        most_common_char = binary_dict[count.most_common(2)[0][0]]\n",
    "    \n",
    "    input_list = [line for line in input_list if line[i] == most_common_char]\n",
    "    if len(input_list) == 1:\n",
    "        break\n",
    "    \n",
    "co2 = int(''.join([char for char in input_list]), 2)\n",
    "print(oxygen*co2)"
   ]
  },
  {
   "cell_type": "code",
   "execution_count": 121,
   "metadata": {},
   "outputs": [
    {
     "data": {
      "text/plain": [
       "[]"
      ]
     },
     "execution_count": 121,
     "metadata": {},
     "output_type": "execute_result"
    }
   ],
   "source": [
    "Counter(bit_string).most_common(2)"
   ]
  }
 ],
 "metadata": {
  "kernelspec": {
   "display_name": "Python 3",
   "language": "python",
   "name": "python3"
  },
  "language_info": {
   "codemirror_mode": {
    "name": "ipython",
    "version": 3
   },
   "file_extension": ".py",
   "mimetype": "text/x-python",
   "name": "python",
   "nbconvert_exporter": "python",
   "pygments_lexer": "ipython3",
   "version": "3.8.3"
  },
  "toc": {
   "base_numbering": 1,
   "nav_menu": {},
   "number_sections": true,
   "sideBar": true,
   "skip_h1_title": false,
   "title_cell": "Table of Contents",
   "title_sidebar": "Contents",
   "toc_cell": false,
   "toc_position": {},
   "toc_section_display": true,
   "toc_window_display": false
  }
 },
 "nbformat": 4,
 "nbformat_minor": 4
}
