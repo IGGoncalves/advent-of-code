{
 "cells": [
  {
   "cell_type": "code",
   "execution_count": 256,
   "id": "fa38d5c0",
   "metadata": {},
   "outputs": [],
   "source": [
    "with open(\"src/day13/input.txt\") as fileobject:\n",
    "    lines = fileobject.read().splitlines()\n",
    "    paper_dict = {\"dots\": [], \"steps\": []}\n",
    "    key = \"dots\"\n",
    "    \n",
    "    for line in lines:\n",
    "        if not line:\n",
    "            key = \"steps\"\n",
    "            continue\n",
    "            \n",
    "        if key == \"dots\":\n",
    "            x, y = line.split(\",\")\n",
    "            coordinates = (int(x), int(y))            \n",
    "        else:\n",
    "            _, step = line.split(\"fold along \")\n",
    "            axis, number = step.split(\"=\")\n",
    "            coordinates = (axis, int(number))\n",
    "            \n",
    "        paper_dict[key].append(coordinates)"
   ]
  },
  {
   "cell_type": "code",
   "execution_count": 266,
   "id": "100f5235",
   "metadata": {},
   "outputs": [
    {
     "name": "stdout",
     "output_type": "stream",
     "text": [
      "#..#...##.###..#..#.####.#..#.###...##..\n",
      "#.#.....#.#..#.#.#..#....#..#.#..#.#..#.\n",
      "##......#.###..##...###..#..#.###..#....\n",
      "#.#.....#.#..#.#.#..#....#..#.#..#.#.##.\n",
      "#.#..#..#.#..#.#.#..#....#..#.#..#.#..#.\n",
      "#..#..##..###..#..#.####..##..###...###.\n"
     ]
    }
   ],
   "source": [
    "max_y = max([line[1] for line in paper_dict[\"dots\"]])\n",
    "max_x = max([line[0] for line in paper_dict[\"dots\"]])\n",
    "\n",
    "grid = [[\".\" for _ in range(max_x+1)] for _ in range(max_y+1)]\n",
    "\n",
    "for dot in paper_dict[\"dots\"]:\n",
    "    grid[dot[1]][dot[0]] = \"#\"\n",
    "    \n",
    "for step in paper_dict[\"steps\"]:\n",
    "    if step[0] == \"y\":\n",
    "        first_half = grid[:step[1]]\n",
    "  \n",
    "        second_half = grid[step[1]+1:]\n",
    "\n",
    "        second_half = [line for line in reversed(second_half)]\n",
    "        \n",
    "        if len(second_half) < len(first_half):\n",
    "            for i, row in enumerate(second_half):\n",
    "                for j, column in enumerate(row):\n",
    "                    if second_half[i][j] == \"#\":\n",
    "                        first_half[i+1][j] = \"#\"\n",
    "                        \n",
    "        else:\n",
    "            for i, row in enumerate(second_half):\n",
    "                for j, column in enumerate(row):\n",
    "                    if second_half[i][j] == \"#\":\n",
    "                        first_half[i][j] = \"#\"\n",
    "        \n",
    "        grid = first_half\n",
    "\n",
    "        \n",
    "    elif step[0] == \"x\":\n",
    "        first_half = [row[:step[1]] for row in grid]\n",
    "        second_half = [row[step[1]+1:] for row in grid] \n",
    "        second_half = [[value for value in reversed(row)] for row in second_half]\n",
    "        \n",
    "        if len(second_half[0]) < len(first_half[0]):\n",
    "            for i, row in enumerate(second_half):\n",
    "                for j, column in enumerate(row):\n",
    "                    if second_half[i][j] == \"#\":\n",
    "                        first_half[i][j+1] = \"#\"\n",
    "                        \n",
    "        else:\n",
    "            for i, row in enumerate(second_half):\n",
    "                for j, column in enumerate(row):\n",
    "                    if second_half[i][j] == \"#\":\n",
    "                        first_half[i][j] = \"#\"\n",
    "        \n",
    "        grid = first_half\n",
    "\n",
    "for row in grid:\n",
    "    print(\"\".join([value for value in row]))"
   ]
  },
  {
   "cell_type": "code",
   "execution_count": 267,
   "id": "45afeab1",
   "metadata": {},
   "outputs": [
    {
     "data": {
      "text/plain": [
       "102"
      ]
     },
     "execution_count": 267,
     "metadata": {},
     "output_type": "execute_result"
    }
   ],
   "source": [
    "len([value for row in grid for value in row if value == \"#\"])"
   ]
  },
  {
   "cell_type": "code",
   "execution_count": 262,
   "id": "4adbf0d2",
   "metadata": {},
   "outputs": [
    {
     "data": {
      "text/plain": [
       "[0, 1, 2, 3, 4, 5, 6, 7, 8, 9, 10, 11, 12, 13]"
      ]
     },
     "execution_count": 262,
     "metadata": {},
     "output_type": "execute_result"
    }
   ],
   "source": [
    "[0, 1, 2, 3, 4, 5, 6, 7, 8, 9, 10, 11, 12, 13]"
   ]
  }
 ],
 "metadata": {
  "kernelspec": {
   "display_name": "Python 3",
   "language": "python",
   "name": "python3"
  },
  "language_info": {
   "codemirror_mode": {
    "name": "ipython",
    "version": 3
   },
   "file_extension": ".py",
   "mimetype": "text/x-python",
   "name": "python",
   "nbconvert_exporter": "python",
   "pygments_lexer": "ipython3",
   "version": "3.8.10"
  }
 },
 "nbformat": 4,
 "nbformat_minor": 5
}
