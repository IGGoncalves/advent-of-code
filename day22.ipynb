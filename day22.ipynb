{
 "cells": [
  {
   "cell_type": "markdown",
   "id": "5d3eea01",
   "metadata": {},
   "source": [
    "# 🧊 Day 22: Reactor Reboot"
   ]
  },
  {
   "cell_type": "code",
   "execution_count": 11,
   "id": "6a9e8184",
   "metadata": {},
   "outputs": [
    {
     "data": {
      "text/plain": [
       "39"
      ]
     },
     "execution_count": 11,
     "metadata": {},
     "output_type": "execute_result"
    }
   ],
   "source": [
    "def parse_commands(command):\n",
    "    # Parse x\n",
    "    x_command = command[command.find(\"x=\")+2:command.find(\",\")]\n",
    "    x_min, x_max = x_command.split(\"..\")\n",
    "    x_on = [x for x in range(int(x_min), int(x_max)+1)]\n",
    "    x_on = [x for x in x_on if x >= -50 and x <= 50]\n",
    "    # Remove x instructions from string\n",
    "    command = command[command.find(\",\")+1:]\n",
    "    \n",
    "    # Parse y\n",
    "    y_command = command[command.find(\"y=\")+2:command.find(\",\")]\n",
    "    y_min, y_max = y_command.split(\"..\")\n",
    "    y_on = [y for y in range(int(y_min), int(y_max)+1)]\n",
    "    y_on = [y for y in y_on if y >= -50 and y <= 50]\n",
    "     # Remove y instructions from string\n",
    "    command = command[command.find(\",z=\")+3:]\n",
    "    \n",
    "    # Parse z\n",
    "    z_min, z_max = command.split(\"..\")\n",
    "    z_on = [z for z in range(int(z_min), int(z_max)+1)]\n",
    "    z_on = [z for z in z_on if z >= -50 and z <= 50]\n",
    "    \n",
    "    return [(x,y,z) for z in z_on for y in y_on for x in x_on]\n",
    "    \n",
    "on_cubes = set()\n",
    "commands = [\"on x=10..12,y=10..12,z=10..12\",\n",
    "            \"on x=11..13,y=11..13,z=11..13\",\n",
    "            \"off x=9..11,y=9..11,z=9..11\",\n",
    "            \"on x=10..10,y=10..10,z=10..10\"]\n",
    "    \n",
    "for command in commands:\n",
    "\n",
    "    if command.find(\"on\") == 0:\n",
    "        cubes_coordinates = parse_commands(command)\n",
    "        on_cubes.update(cubes_coordinates)\n",
    "    else:\n",
    "        cubes_coordinates = parse_commands(command)\n",
    "        on_cubes.difference_update(cubes_coordinates)\n",
    "\n",
    "len(on_cubes)"
   ]
  },
  {
   "cell_type": "code",
   "execution_count": 13,
   "id": "2d91bd7e",
   "metadata": {},
   "outputs": [
    {
     "data": {
      "text/plain": [
       "655005"
      ]
     },
     "execution_count": 13,
     "metadata": {},
     "output_type": "execute_result"
    }
   ],
   "source": [
    "on_cubes = set()\n",
    "\n",
    "with open(\"src/day22/input.txt\") as fileobject:\n",
    "    lines = fileobject.read().splitlines()\n",
    "    \n",
    "    for command in lines:\n",
    "        if command.find(\"on\") == 0:\n",
    "            cubes_coordinates = parse_commands(command)\n",
    "            on_cubes.update(cubes_coordinates)\n",
    "        else:\n",
    "            cubes_coordinates = parse_commands(command)\n",
    "            on_cubes.difference_update(cubes_coordinates)\n",
    "            \n",
    "len(on_cubes)      "
   ]
  }
 ],
 "metadata": {
  "kernelspec": {
   "display_name": "Python 3",
   "language": "python",
   "name": "python3"
  },
  "language_info": {
   "codemirror_mode": {
    "name": "ipython",
    "version": 3
   },
   "file_extension": ".py",
   "mimetype": "text/x-python",
   "name": "python",
   "nbconvert_exporter": "python",
   "pygments_lexer": "ipython3",
   "version": "3.8.10"
  }
 },
 "nbformat": 4,
 "nbformat_minor": 5
}
