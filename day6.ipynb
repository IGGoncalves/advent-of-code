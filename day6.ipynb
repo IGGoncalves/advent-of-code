{
 "cells": [
  {
   "cell_type": "markdown",
   "id": "c5306d14",
   "metadata": {},
   "source": [
    "# 💡 Day 6: Lanternfish\n",
    "*A massive school of glowing lanternfish swims past.*\n",
    "\n",
    "## Part 1\n",
    "\n",
    "### ✨ Building a LanternFish class"
   ]
  },
  {
   "cell_type": "code",
   "execution_count": 1,
   "id": "8208c6f2",
   "metadata": {},
   "outputs": [],
   "source": [
    "from dataclasses import dataclass\n",
    "\n",
    "@dataclass\n",
    "class LanternFish:\n",
    "    \"\"\"Represents a lanternfish with an internal clock\"\"\"\n",
    "    clock: int = 8\n",
    "        \n",
    "    def decrease_clock_count(self):\n",
    "        \"\"\"Decreases the clock count by one day\"\"\"\n",
    "        self.clock -= 1\n",
    "        \n",
    "    def create_son(self):\n",
    "        \"\"\"Resets the clock count and create a new lanternfish\"\"\"\n",
    "        self.clock = 6\n",
    "        son = LanternFish()\n",
    "        return son\n",
    "        \n",
    "    def update_internal_clock(self, list_of_fishes):\n",
    "        \"\"\"Updates the internal clock by decreasing time or creating a new fish\"\"\"\n",
    "        # Not ready to reproduce\n",
    "        if self.clock > 0:\n",
    "            self.decrease_clock_count()\n",
    "            return\n",
    "        \n",
    "        # Create a new son and add it to the list of lanternfishes\n",
    "        son = self.create_son()\n",
    "        list_of_fishes.append(son)\n",
    "        "
   ]
  },
  {
   "cell_type": "markdown",
   "id": "9cf0b6fe",
   "metadata": {},
   "source": [
    "### 🧩 Solving the puzzle"
   ]
  },
  {
   "cell_type": "code",
   "execution_count": 14,
   "id": "09064500",
   "metadata": {},
   "outputs": [
    {
     "data": {
      "text/plain": [
       "5"
      ]
     },
     "execution_count": 14,
     "metadata": {},
     "output_type": "execute_result"
    }
   ],
   "source": [
    "number_of_days = 18\n",
    "\n",
    "fishes = [LanternFish(clock) for clock in [3, 4, 3, 1, 2]]\n",
    "\n",
    "for _ in range(number_of_days):\n",
    "    old_fishes = fishes.copy()\n",
    "    for lantern in old_fishes:\n",
    "        lantern.update_internal_clock(fishes)\n",
    "\n",
    "len(fishes)"
   ]
  },
  {
   "cell_type": "markdown",
   "id": "d232cc5b",
   "metadata": {},
   "source": [
    "## Part 2\n",
    "\n",
    "Seems like we don't really need to add any new features to our code to solve part 2! We only need to change the input number!... But once you try to run it 😧😫... good luck with that. So, what is the problem, and how can we solve it?\n",
    "\n",
    "Well, as the population grows, we get a TON of fishes to update at each time point, to the point it no longer becomes feasible. **We have to think of ways do decrease the number of computations we use**. My first guess was to avoid keeping track of fishes that share the same initial clock. If we know that a fish starting at clock time 3 will create 5 fishes by day 18, then, instead of following other fishes that share the same initial clock time through the simulation we can follow one and then **multiply the number of offspring by the number of initial fishes.**\n"
   ]
  },
  {
   "cell_type": "code",
   "execution_count": 17,
   "id": "ab5643a3",
   "metadata": {},
   "outputs": [
    {
     "name": "stdout",
     "output_type": "stream",
     "text": [
      "A fish with time clock 3 produced 5 fishes by time 18\n"
     ]
    }
   ],
   "source": [
    "number_of_days = 18\n",
    "initial_time_clock = 3\n",
    "fishes = [LanternFish(initial_time_clock)]\n",
    "\n",
    "# Simulate population growth\n",
    "for _ in range(number_of_days):\n",
    "    old_fishes = fishes.copy()\n",
    "    for lantern in old_fishes:\n",
    "        lantern.update_internal_clock(fishes)\n",
    "\n",
    "print(f\"A fish with time clock {initial_time_clock} produced {len(fishes)} fishes by time {number_of_days}\")"
   ]
  },
  {
   "cell_type": "markdown",
   "id": "4a0e8183",
   "metadata": {},
   "source": [
    "Thus, we should expect that, by day 10, 2 fishes with this initial time clock will produce 10 new fishes. \n",
    "\n",
    "We can **solve our problem for each fish with a unique time clock value** and then use the results to **estimate the number of fishes that our input will produce**. For instance, in our test sample this helps us to avoid repeating the computations for the fishes with a time clock of 3."
   ]
  },
  {
   "cell_type": "code",
   "execution_count": 35,
   "id": "6b524680",
   "metadata": {},
   "outputs": [
    {
     "data": {
      "text/plain": [
       "{1: 7, 2: 5, 3: 5, 4: 4}"
      ]
     },
     "execution_count": 35,
     "metadata": {},
     "output_type": "execute_result"
    }
   ],
   "source": [
    "number_of_days = 18\n",
    "unique_clocks = [clock for clock in set([3, 4, 3, 1, 2])]\n",
    "offspring_dict = {}\n",
    "\n",
    "fishes = [LanternFish(clock) for clock in unique_clocks]\n",
    "fish_clocks = [fish.clock for fish in fishes]\n",
    "\n",
    "# Simulate population growth for each fish\n",
    "for initial_clock, fish in zip(fish_clocks, fishes):\n",
    "    simulated_fishes = [fish]\n",
    "    for _ in range(number_of_days):\n",
    "        old_simulated_fishes = simulated_fishes.copy()\n",
    "        for lantern in old_simulated_fishes:\n",
    "            lantern.update_internal_clock(simulated_fishes)\n",
    "    # Store the size of the population that the fish produced\n",
    "    offspring_dict[initial_clock] = len(simulated_fishes)    \n",
    "\n",
    "offspring_dict"
   ]
  },
  {
   "cell_type": "markdown",
   "id": "78312c9b",
   "metadata": {},
   "source": [
    "Knowing how many fishes each initial fish will create, we can sum the number of children for each fish in our input."
   ]
  },
  {
   "cell_type": "code",
   "execution_count": 38,
   "id": "74e15da5",
   "metadata": {},
   "outputs": [
    {
     "data": {
      "text/plain": [
       "26"
      ]
     },
     "execution_count": 38,
     "metadata": {},
     "output_type": "execute_result"
    }
   ],
   "source": [
    "# Add the sum of the populations created by each fish\n",
    "sum_of_fishes = sum([offspring_dict[clock] for clock in [3, 4, 3, 1, 2]])\n",
    "sum_of_fishes"
   ]
  },
  {
   "cell_type": "markdown",
   "id": "5919a724",
   "metadata": {},
   "source": [
    "Unfortunately, this is not enough to solve our problem with the input data."
   ]
  },
  {
   "cell_type": "code",
   "execution_count": 9,
   "id": "70699577",
   "metadata": {},
   "outputs": [
    {
     "name": "stdout",
     "output_type": "stream",
     "text": [
      "running fish 1\n",
      "running fish 2\n",
      "running fish 3\n",
      "running fish 4\n",
      "running fish 5\n",
      "running fish 6\n",
      "running fish 7\n",
      "running fish 8\n",
      "running fish 9\n"
     ]
    }
   ],
   "source": [
    "number_of_days = 128\n",
    "\n",
    "fishes = [LanternFish(clock) for clock in [0, 1, 2, 3, 4, 5, 6, 7, 8]]\n",
    "counter = {}\n",
    "fishes_at_half = []\n",
    "\n",
    "for i, fish in enumerate(fishes):\n",
    "    simulated_fishes = [fish]\n",
    "    for _ in range(number_of_days):\n",
    "        old_simulated_fishes = simulated_fishes.copy()\n",
    "        for lantern in old_simulated_fishes:\n",
    "            lantern.update_internal_clock(simulated_fishes)\n",
    "    counter[i] = len(simulated_fishes)\n",
    "    fishes_at_half.append([half_fish.clock for half_fish in simulated_fishes])\n"
   ]
  },
  {
   "cell_type": "code",
   "execution_count": 10,
   "id": "deb81ed4",
   "metadata": {},
   "outputs": [
    {
     "data": {
      "text/plain": [
       "26984457539"
      ]
     },
     "execution_count": 10,
     "metadata": {},
     "output_type": "execute_result"
    }
   ],
   "source": [
    "count = 0\n",
    "for i in [3, 4, 3 , 1, 2]:\n",
    "    count += sum([counter[clock] for clock in fishes_at_half[i]])\n",
    "    \n",
    "count"
   ]
  },
  {
   "cell_type": "code",
   "execution_count": 11,
   "id": "ad1fe155",
   "metadata": {},
   "outputs": [
    {
     "data": {
      "text/plain": [
       "1572643095893"
      ]
     },
     "execution_count": 11,
     "metadata": {},
     "output_type": "execute_result"
    }
   ],
   "source": [
    "with open(\"src/day6/input.txt\") as fileobject:\n",
    "    lines = fileobject.read().splitlines()\n",
    "    clocks = [int(value) for value in lines[0].split(',')]\n",
    "    \n",
    "count = 0\n",
    "for i in clocks:\n",
    "    count += sum([counter[clock] for clock in fishes_at_half[i]])\n",
    "    \n",
    "count"
   ]
  },
  {
   "cell_type": "markdown",
   "id": "04016eda",
   "metadata": {},
   "source": [
    "Welp, this works for this timespan, but doesn't seem to escalate well."
   ]
  }
 ],
 "metadata": {
  "kernelspec": {
   "display_name": "Python 3",
   "language": "python",
   "name": "python3"
  },
  "language_info": {
   "codemirror_mode": {
    "name": "ipython",
    "version": 3
   },
   "file_extension": ".py",
   "mimetype": "text/x-python",
   "name": "python",
   "nbconvert_exporter": "python",
   "pygments_lexer": "ipython3",
   "version": "3.8.10"
  }
 },
 "nbformat": 4,
 "nbformat_minor": 5
}
