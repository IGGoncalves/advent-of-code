{
 "cells": [
  {
   "cell_type": "markdown",
   "metadata": {},
   "source": [
    "# 🚤 Day 2: Dive! (aka Yellow Submarine)\n",
    "\n",
    "*Now, you need to figure out how to pilot this thing.*\n",
    "\n",
    "## Part 1\n",
    "\n",
    "Seems like we have a submarine that can take a series of commands, but it all comes down to:\n",
    "- ➡ We can move the submarine in the **horizontal direction** (only positive displacements)\n",
    "- ⬆⬇ We can move the submarine in the **vertical direction** (positive and negative displacements)\n",
    "\n",
    "We'll go over how to know where and how much to move, but first let's create our submarine.\n",
    "\n",
    "### ✨ Building and testing a Submarine class\n",
    "\n",
    "Our little submarine will be used for basic traveling, so we only really need to **know its coordinates** and **be able to update them by moving the submarine.** We'll keep things and simple and think about movement in the horizontal component and in the vertical component. We'll worry about whether to move up or down later on.\n",
    "\n",
    "So, let's create a [dataclass](https://docs.python.org/3/library/dataclasses.html) for our vehicle. It will have a `horizontal_position` and a `depth`, which will be initialized as 0 by default, and it will also have two methods: one to update the horizontal coordinates (`move_horizontal`) and another for the vertical coordinates (`move_vertical`).\n",
    "\n",
    "To make sure the submarine is understanding our commands, we will set a simple path (1 down, 2 forward, 3 up) and see if it lands on the right coordinates. "
   ]
  },
  {
   "cell_type": "code",
   "execution_count": 29,
   "metadata": {},
   "outputs": [
    {
     "name": "stdout",
     "output_type": "stream",
     "text": [
      "I'm currently at depth -2, horizontal 2\n"
     ]
    },
    {
     "data": {
      "text/plain": [
       "Submarine(horizontal_position=2, depth=-2)"
      ]
     },
     "execution_count": 29,
     "metadata": {},
     "output_type": "execute_result"
    }
   ],
   "source": [
    "from dataclasses import dataclass\n",
    "\n",
    "@dataclass\n",
    "class Submarine:\n",
    "    \"\"\"Represents a submarine moving through the sea\"\"\"\n",
    "    horizontal_position: int = 0\n",
    "    depth: int = 0\n",
    "        \n",
    "    def move_vertical(self, distance: int) -> None:\n",
    "        \"\"\"Move the submarine downwards by a distance\"\"\"\n",
    "        self.depth += distance\n",
    "        \n",
    "    def move_horizontal(self, distance: int) -> None:\n",
    "        \"\"\"Move the submarine forward by a distance\"\"\"\n",
    "        self.horizontal_position +=  distance\n",
    "        \n",
    "    def print_position(self) -> None:\n",
    "        \"\"\"Prints the current position of the submarine\"\"\"\n",
    "        print(f\"I'm currently at depth {self.depth}, horizontal {self.horizontal_position}\")\n",
    "        \n",
    "# Test the submarine class, should be at (2, -2)\n",
    "submarine = Submarine()\n",
    "submarine.move_vertical(1)\n",
    "submarine.move_horizontal(2)\n",
    "submarine.move_vertical(-3)\n",
    "submarine.print_position()\n",
    "\n",
    "# Bonus: Dataclasses are cool and we don't really need the print_position() method\n",
    "submarine"
   ]
  },
  {
   "cell_type": "markdown",
   "metadata": {},
   "source": [
    "### 🔍 Extracting information from the input .txt file\n",
    "\n",
    "The structure of our input file is quite easy to work with. We'll need to know the **direction** of movement (up, down or forward) and the **distance** by which the submarine will move. Each line follows the same structure: \n",
    "\n",
    "\"`direction` `distance`\". \n",
    "\n",
    "In other words, our variables are separated by a blank space, which we can use to [split](https://docs.python.org/3/library/stdtypes.html#str.split) the string. Also, we can use the [rstrip](https://www.w3schools.com/python/ref_string_rstrip.asp) method to remove the trailing newline character (\"\\n\") at the end of the string. (And don't forget to make distance a numerical value to make things easier)\n",
    "\n",
    "Let's combine these ideas to create a function that extracts the direction and distance data from the input lines!"
   ]
  },
  {
   "cell_type": "code",
   "execution_count": 41,
   "metadata": {},
   "outputs": [],
   "source": [
    "def get_info_from_file_string(line: str):\n",
    "    \"\"\"Extracts the direction and distance value from string\"\"\"\n",
    "    # Get the direction and distance from the txt file\n",
    "    direction, distance = line.rstrip(\"\\n\").split(\" \")\n",
    "    distance = int(distance)\n",
    "    \n",
    "    return direction, distance"
   ]
  },
  {
   "cell_type": "markdown",
   "metadata": {},
   "source": [
    "### 🧩 Solving the puzzle\n",
    "\n",
    "Now that we have all the main pieces to solve the puzzle, let's put them together. Here is our planned workflow:\n",
    "\n",
    "- Open the file and read each line:\n",
    "    - Extract the needed info\n",
    "    - If the direction is **\"forward\"**, we update the submarine's **horizontal position** and **move to the next line**;\n",
    "    - **Otherwise**, we update the submarine's **vertical position**:\n",
    "        - If the direction is **\"up\"**, we need to make the displacement value **negative**\n",
    "        - Update the submarine's **vertical position** and **move to the next line**"
   ]
  },
  {
   "cell_type": "code",
   "execution_count": 44,
   "metadata": {},
   "outputs": [
    {
     "name": "stdout",
     "output_type": "stream",
     "text": [
      "I'm currently at depth 1090, horizontal 1868\n",
      "2036120\n"
     ]
    }
   ],
   "source": [
    "# Let's dive into the input file with our Submarine\n",
    "submarine = Submarine()\n",
    "\n",
    "with open(\"day2/input.txt\") as fileobject:\n",
    "    for line in fileobject:\n",
    "        # Get the direction and distance from the txt file\n",
    "        direction, distance = get_info_from_file_string(line)\n",
    "        \n",
    "        # Decide how to move the submarine\n",
    "        # If direction is forward, go for horizontal movement\n",
    "        if direction == \"forward\":\n",
    "            submarine.move_horizontal(distance)\n",
    "            continue\n",
    "            \n",
    "        # Otherwise, go for vertical movement and assign the correct direction\n",
    "        # Up corresponds to negative movement, down corresponds to positive\n",
    "        if direction == \"up\":\n",
    "            distance = - distance\n",
    "            \n",
    "        submarine.move_vertical(distance)\n",
    "        \n",
    "submarine.print_position()\n",
    "# Print answer\n",
    "print(submarine.depth * submarine.horizontal_position)"
   ]
  },
  {
   "cell_type": "markdown",
   "metadata": {},
   "source": [
    "## Part 2\n",
    "\n",
    "In part two our commands get a bit more sophisticated but we can still think about two main components:\n",
    "\n",
    "- ⏩ We can **move the submarine** (possibly both coordinates at once)\n",
    "- 🔄 We can **update the submarine's aim**\n",
    "\n",
    "### ✨ Building and testing a Submarine subclass with aim\n",
    "\n",
    "The yellow submarine needs an upgrade. It still moves up, down and forward, but now it has a new component: the aim, which controls the vertical movement. So, we can **extend our previous class** to take advantage of the code we wrote to **move the boat**, and we will **implement the aim component and how it behaves into a new subclass**.\n",
    "\n",
    "We need to add a `aim` attribute to store the value of this component. In addition, we should create a new method to move our submarine, as **the new rules for movement consider both coordinates**. So, we will write a `move_submarine` method that **updates the horizontal coordinate and subsequently updates the vertical coordinate** based on the current aim value."
   ]
  },
  {
   "cell_type": "code",
   "execution_count": 35,
   "metadata": {},
   "outputs": [
    {
     "name": "stdout",
     "output_type": "stream",
     "text": [
      "I'm currently at depth 50, horizontal 10\n"
     ]
    }
   ],
   "source": [
    "@dataclass\n",
    "class SubmarineWithAim(Submarine):\n",
    "    \"\"\"An extension of the submarine object with aim\"\"\"\n",
    "    aim: int = 0\n",
    "        \n",
    "    def add_aim(self, value) -> None:\n",
    "        \"\"\"Updates the aim based on a new value\"\"\"\n",
    "        self.aim += value\n",
    "        \n",
    "    def move_submarine(self, distance):\n",
    "        \"\"\"Moves the submarine (horizontal + vertical with aim)\"\"\"\n",
    "        # Move the horizontal component\n",
    "        self.move_horizontal(distance)\n",
    "        # Get the vertical component and move it\n",
    "        vertical_movement = self.get_distance_with_aim(distance)\n",
    "        self.move_vertical(vertical_movement)\n",
    "        \n",
    "    def get_distance_with_aim(self, distance) -> int:\n",
    "        \"\"\"Returns the new vertical distance value based on the current aim\"\"\"\n",
    "        return distance * self.aim\n",
    "        \n",
    "# Test the subclass, should be at (10, 50)\n",
    "aim_submarine = SubmarineWithAim()\n",
    "aim_submarine.add_aim(5)\n",
    "aim_submarine.move_submarine(10)\n",
    "aim_submarine.print_position()"
   ]
  },
  {
   "cell_type": "markdown",
   "metadata": {},
   "source": [
    "### 🧩 Solving the puzzle\n",
    "\n",
    "Our previous workflow can be adapted to the new rules:\n",
    "\n",
    "- Open the file and read each line:\n",
    "    - Extract the needed info\n",
    "    - If the direction is **\"forward\"**, we **move the submarine** (the move method takes care of it) and **move to the next line**;\n",
    "    - **Otherwise**, we update the submarine's **aim**:\n",
    "        - If the direction is **\"up\"**, we need to make the aim value **negative**\n",
    "        - Update the submarine's **aim** and **move to the next line**"
   ]
  },
  {
   "cell_type": "code",
   "execution_count": 45,
   "metadata": {},
   "outputs": [
    {
     "name": "stdout",
     "output_type": "stream",
     "text": [
      "I'm currently at depth 1078987, horizontal 1868\n",
      "2015547716\n"
     ]
    }
   ],
   "source": [
    "# Let's dive into the input file with our special SubmarineWithAim\n",
    "aim_submarine = SubmarineWithAim()\n",
    "\n",
    "with open(\"day2/input.txt\") as fileobject:\n",
    "    for line in fileobject:\n",
    "        # Get the direction and distance from the txt file\n",
    "        direction, distance = get_info_from_file_string(line)\n",
    "        \n",
    "        # Move the submarine\n",
    "        if direction == \"forward\":\n",
    "            aim_submarine.move_submarine(distance)\n",
    "            continue\n",
    "            \n",
    "        # Update the aim\n",
    "        if direction == \"up\":\n",
    "            distance = - distance\n",
    "            \n",
    "        aim_submarine.add_aim(distance)\n",
    "        \n",
    "aim_submarine.print_position()\n",
    "# Print answer\n",
    "print(aim_submarine.depth * aim_submarine.horizontal_position)"
   ]
  }
 ],
 "metadata": {
  "kernelspec": {
   "display_name": "Python 3",
   "language": "python",
   "name": "python3"
  },
  "language_info": {
   "codemirror_mode": {
    "name": "ipython",
    "version": 3
   },
   "file_extension": ".py",
   "mimetype": "text/x-python",
   "name": "python",
   "nbconvert_exporter": "python",
   "pygments_lexer": "ipython3",
   "version": "3.8.3"
  },
  "toc": {
   "base_numbering": 1,
   "nav_menu": {},
   "number_sections": true,
   "sideBar": true,
   "skip_h1_title": false,
   "title_cell": "Table of Contents",
   "title_sidebar": "Contents",
   "toc_cell": false,
   "toc_position": {},
   "toc_section_display": true,
   "toc_window_display": false
  }
 },
 "nbformat": 4,
 "nbformat_minor": 4
}
