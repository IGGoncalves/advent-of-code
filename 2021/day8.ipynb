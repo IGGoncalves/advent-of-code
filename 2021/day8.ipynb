{
 "cells": [
  {
   "cell_type": "markdown",
   "id": "c06a7fb4",
   "metadata": {},
   "source": [
    "# 🎱 Day 8: Seven Segment Search\n",
    "*You barely reach the safety of the cave when the whale smashes into the cave mouth, collapsing it.*\n",
    "\n",
    "## Part 1\n",
    "\n",
    "### Building a function that selects the output values of interest"
   ]
  },
  {
   "cell_type": "code",
   "execution_count": 13,
   "id": "5b454c43",
   "metadata": {},
   "outputs": [
    {
     "data": {
      "text/plain": [
       "[8, 4]"
      ]
     },
     "execution_count": 13,
     "metadata": {},
     "output_type": "execute_result"
    }
   ],
   "source": [
    "digit_dict = {2: 1,\n",
    "              3: 7,\n",
    "              4: 4,\n",
    "              7: 8}\n",
    "\n",
    "string = ['fdgacbe', 'cefdb', 'cefbgd', 'gcbe']\n",
    "\n",
    "converted_digits = [digit_dict[len(sequence)] \n",
    "                    for sequence in output_string \n",
    "                    if len(sequence) in digit_dict.keys()]\n",
    "converted_digits"
   ]
  },
  {
   "cell_type": "markdown",
   "id": "a3062c0c",
   "metadata": {},
   "source": [
    "### Extracting the output values"
   ]
  },
  {
   "cell_type": "code",
   "execution_count": 22,
   "id": "2b6384b6",
   "metadata": {},
   "outputs": [
    {
     "data": {
      "text/plain": [
       "[4, 1]"
      ]
     },
     "execution_count": 22,
     "metadata": {},
     "output_type": "execute_result"
    }
   ],
   "source": [
    "input_string = \"gcafb gcf dcaebfg ecagb gf abcdeg gaef cafbge fdbac fegbdc | fgae cfgab fg bagce\"\n",
    "unique_signals, output_string = input_string.split(\" | \")\n",
    "output_string = output_string.split(\" \")"
   ]
  },
  {
   "cell_type": "markdown",
   "id": "cd7dfb29",
   "metadata": {},
   "source": [
    "### Solving the puzzle"
   ]
  },
  {
   "cell_type": "code",
   "execution_count": 25,
   "id": "09deecf4",
   "metadata": {},
   "outputs": [
    {
     "data": {
      "text/plain": [
       "504"
      ]
     },
     "execution_count": 25,
     "metadata": {},
     "output_type": "execute_result"
    }
   ],
   "source": [
    "with open(\"src/day8/input.txt\") as fileobject:\n",
    "    lines = fileobject.read().splitlines()\n",
    "    output = []\n",
    "    for line in lines:\n",
    "        unique_signals, output_string = line.split(\" | \")\n",
    "        output_string = output_string.split(\" \")\n",
    "        for digit in output_string:\n",
    "            output.append(digit)\n",
    "            \n",
    "converted_digits = [digit_dict[len(sequence)] \n",
    "                    for sequence in output\n",
    "                    if len(sequence) in digit_dict.keys()]\n",
    "\n",
    "len(converted_digits)"
   ]
  },
  {
   "cell_type": "markdown",
   "id": "c81aaf2e",
   "metadata": {},
   "source": [
    "## Part 2"
   ]
  },
  {
   "cell_type": "code",
   "execution_count": 126,
   "id": "43ba3ae6",
   "metadata": {},
   "outputs": [
    {
     "data": {
      "text/plain": [
       "1073431"
      ]
     },
     "execution_count": 126,
     "metadata": {},
     "output_type": "execute_result"
    }
   ],
   "source": [
    "digit_dict = {2: 1,\n",
    "              3: 7,\n",
    "              4: 4,\n",
    "              7: 8}\n",
    "\n",
    "possible_dict = {5: [2, 3, 5],\n",
    "                 6: [0, 6, 9]}\n",
    "\n",
    "with open(\"src/day8/input.txt\") as fileobject:\n",
    "    lines = fileobject.read().splitlines()\n",
    "    number_sum = 0\n",
    "    for line in lines:\n",
    "        unique_signals, output_string = line.split(\" | \")\n",
    "\n",
    "        output = unique_signals.split(\" \")\n",
    "        test = output_string.split(\" \")\n",
    "\n",
    "        converted_digits = {digit_dict[len(sequence)]: sequence\n",
    "                            for sequence in output\n",
    "                            if len(sequence) in digit_dict.keys()}\n",
    "\n",
    "        for i in possible_dict[6]:\n",
    "            converted_digits[i] = [sequence for sequence in output if len(sequence) == 6]\n",
    "\n",
    "        for i in possible_dict[5]:\n",
    "            converted_digits[i] = [sequence for sequence in output if len(sequence) == 5]\n",
    "\n",
    "        converted_digits[3] = [sequence for sequence in converted_digits[3] \n",
    "                               if converted_digits[1][0] in sequence and converted_digits[1][1] in sequence][0]\n",
    "\n",
    "        converted_digits[2].remove(converted_digits[3])\n",
    "        converted_digits[5].remove(converted_digits[3])\n",
    "\n",
    "        left_top = [char for char in converted_digits[4] \n",
    "                    if char not in converted_digits[3]][0]\n",
    "\n",
    "        converted_digits[5] = [sequence for sequence in converted_digits[5]\n",
    "                               if left_top in sequence][0]\n",
    "\n",
    "        converted_digits[2].remove(converted_digits[5])\n",
    "        converted_digits[2] = converted_digits[2][0]\n",
    "\n",
    "        horizontal_middle = [char for char in converted_digits[4]\n",
    "                             if char in converted_digits[3] and char not in converted_digits[1]][0]\n",
    "\n",
    "        converted_digits[0] = [sequence for sequence in converted_digits[0] \n",
    "                               if horizontal_middle not in sequence][0]\n",
    "\n",
    "        converted_digits[6].remove(converted_digits[0])\n",
    "        converted_digits[9].remove(converted_digits[0])\n",
    "\n",
    "        left_bottom = [char for char in converted_digits[2] \n",
    "                       if char not in converted_digits[3]][0]\n",
    "\n",
    "        converted_digits[6] = [sequence for sequence in converted_digits[6] \n",
    "                               if left_bottom in sequence][0]\n",
    "\n",
    "        converted_digits[9].remove(converted_digits[6])\n",
    "        converted_digits[9] = converted_digits[9][0]\n",
    "\n",
    "        for key, value in converted_digits.items():\n",
    "            converted_digits[key] = sorted(value)\n",
    "\n",
    "        selected_sequences = [sorted(sequence) for sequence in test \n",
    "                              if sorted(sequence) in converted_digits.values()]\n",
    "\n",
    "        number = []\n",
    "        for sequence in selected_sequences:\n",
    "            for key, value in converted_digits.items():\n",
    "                if sequence == value:\n",
    "                    number.append(key)\n",
    "\n",
    "        number = int(\"\".join([str(n) for n in number]))\n",
    "        number_sum += number\n",
    "        \n",
    "number_sum"
   ]
  }
 ],
 "metadata": {
  "kernelspec": {
   "display_name": "Python 3",
   "language": "python",
   "name": "python3"
  },
  "language_info": {
   "codemirror_mode": {
    "name": "ipython",
    "version": 3
   },
   "file_extension": ".py",
   "mimetype": "text/x-python",
   "name": "python",
   "nbconvert_exporter": "python",
   "pygments_lexer": "ipython3",
   "version": "3.8.10"
  }
 },
 "nbformat": 4,
 "nbformat_minor": 5
}
