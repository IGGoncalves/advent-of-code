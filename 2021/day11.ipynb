{
 "cells": [
  {
   "cell_type": "markdown",
   "id": "254fa592",
   "metadata": {},
   "source": [
    "# 🐙 Day 11: Dumbo Octopus\n",
    "\n",
    "*You enter a large cavern full of rare bioluminescent dumbo octopuses!*"
   ]
  },
  {
   "cell_type": "code",
   "execution_count": 98,
   "id": "f233bfa2",
   "metadata": {},
   "outputs": [
    {
     "name": "stdout",
     "output_type": "stream",
     "text": [
      "Beginning of simulation\n",
      "[[1 1 1 1 1]\n",
      " [1 9 9 9 1]\n",
      " [1 9 1 9 1]\n",
      " [1 9 9 9 1]\n",
      " [1 1 1 1 1]]\n",
      "\n",
      "Flash\n",
      "[[3 4 5 4 3]\n",
      " [4 0 0 0 4]\n",
      " [5 0 0 0 5]\n",
      " [4 0 0 0 4]\n",
      " [3 4 5 4 3]]\n",
      "\n",
      "Flash\n",
      "[[4 5 6 5 4]\n",
      " [5 1 1 1 5]\n",
      " [6 1 1 1 6]\n",
      " [5 1 1 1 5]\n",
      " [4 5 6 5 4]]\n",
      "\n",
      "9\n"
     ]
    }
   ],
   "source": [
    "from dataclasses import dataclass, field\n",
    "import numpy as np\n",
    "\n",
    "@dataclass\n",
    "class Cave:\n",
    "    grid_size: int\n",
    "    grid: np.ndarray = field(init=False)\n",
    "    flashed: list = field(default_factory=list)\n",
    "    number_of_flashes: int = 0\n",
    "        \n",
    "    def __post_init__(self):\n",
    "        self.grid = np.zeros(shape=(self.grid_size, self.grid_size), dtype=int)\n",
    "        \n",
    "    def get_neighbors(self, i, j):\n",
    "        neighbors = []\n",
    "        if j > 0:\n",
    "            neighbors.append((i, j-1))\n",
    "        if j < len(self.grid[0]) - 1:\n",
    "            neighbors.append((i, j+1))\n",
    "        \n",
    "        if i > 0:\n",
    "            neighbors.append((i-1, j))\n",
    "            if j > 0:\n",
    "                neighbors.append((i-1, j-1))\n",
    "            if j < len(self.grid[0]) - 1:\n",
    "                neighbors.append((i-1, j+1))\n",
    "                \n",
    "        if i < len(self.grid) - 1:\n",
    "            neighbors.append((i+1, j))\n",
    "            if j > 0:\n",
    "                neighbors.append((i+1, j-1))\n",
    "            if j < len(self.grid[0]) - 1:\n",
    "                neighbors.append((i+1, j+1))\n",
    "        \n",
    "        return neighbors\n",
    "        \n",
    "    def fill_grid(self, reference):\n",
    "        for i, row in enumerate(reference):\n",
    "            for j, column in enumerate(row):\n",
    "                self.grid[i][j] = column\n",
    "        \n",
    "    def add_one_to_grid(self):\n",
    "        self.grid += 1\n",
    "        \n",
    "    def add_one_to_neighbors(self, position):\n",
    "        neighbors = self.get_neighbors(position[0], position[1])\n",
    "        for neighbor in neighbors:\n",
    "            i, j = neighbor\n",
    "            self.grid[i][j] += 1\n",
    "            \n",
    "    def flash(self, position):\n",
    "        self.add_one_to_neighbors(position)\n",
    "        self.flashed.append(position)\n",
    "        self.number_of_flashes += 1\n",
    "            \n",
    "    def look_for_flashes(self):\n",
    "        for i, row in enumerate(self.grid):\n",
    "            for j, column in enumerate(row):\n",
    "                if self.grid[i][j] > 9 and (i, j) not in self.flashed:\n",
    "                    self.flash((i, j))\n",
    "                    \n",
    "    def advance_time(self):\n",
    "        self.add_one_to_grid()\n",
    "        flagged = [(i, j) for i, row in enumerate(self.grid)\n",
    "                   for j, value in enumerate(row) if value > 9]\n",
    "        \n",
    "        while sorted(flagged) != sorted(self.flashed):\n",
    "            self.look_for_flashes()\n",
    "            flagged = [(i, j) for i, row in enumerate(self.grid)\n",
    "                   for j, value in enumerate(row) if value > 9]\n",
    "            \n",
    "        for i, row in enumerate(self.grid):\n",
    "            for j, column in enumerate(row):\n",
    "                if column > 9:\n",
    "                    self.grid[i][j] = 0\n",
    "        \n",
    "        self.flashed = []\n",
    "        \n",
    "    def clean_flashed(self):\n",
    "        self.flashed = []\n",
    "        \n",
    "    def print(self, string):\n",
    "        print(string)\n",
    "        print(f\"{self.grid}\\n\")\n",
    "    \n",
    "test_grid = [[1, 1, 1, 1, 1],\n",
    "             [1, 9, 9, 9, 1],\n",
    "             [1, 9, 1, 9, 1],\n",
    "             [1, 9, 9, 9, 1],\n",
    "             [1, 1, 1, 1, 1]]\n",
    "\n",
    "cave = Cave(5)\n",
    "cave.fill_grid(test_grid)\n",
    "cave.print(\"Beginning of simulation\")\n",
    "\n",
    "for _ in range(2):\n",
    "    cave.advance_time()\n",
    "    cave.print(\"Flash\")\n",
    "    \n",
    "print(cave.number_of_flashes)"
   ]
  },
  {
   "cell_type": "code",
   "execution_count": 103,
   "id": "595549d9",
   "metadata": {},
   "outputs": [
    {
     "name": "stdout",
     "output_type": "stream",
     "text": [
      "Beginning of simulation\n",
      "[[4 5 7 5 3 5 5 6 2 3]\n",
      " [3 3 2 5 5 7 8 4 2 6]\n",
      " [7 8 8 5 1 6 5 5 7 6]\n",
      " [4 8 7 1 4 5 5 6 5 8]\n",
      " [3 7 2 2 5 4 5 3 1 2]\n",
      " [8 3 6 2 6 6 3 8 3 2]\n",
      " [5 5 6 2 7 4 3 3 2 4]\n",
      " [4 1 6 5 7 7 6 4 1 2]\n",
      " [1 8 1 7 8 1 3 6 7 5]\n",
      " [4 2 5 5 5 2 4 6 3 2]]\n",
      "\n",
      "End\n",
      "[[9 0 0 0 0 0 0 0 0 8]\n",
      " [0 0 0 0 0 0 0 0 0 0]\n",
      " [0 0 0 0 0 0 0 0 0 0]\n",
      " [0 0 0 0 0 0 0 0 0 0]\n",
      " [0 0 0 6 5 6 0 0 0 0]\n",
      " [0 0 5 3 2 3 6 0 0 0]\n",
      " [0 5 3 2 2 2 4 4 0 0]\n",
      " [7 3 2 2 2 2 3 8 8 0]\n",
      " [5 7 2 2 2 2 7 5 5 5]\n",
      " [4 5 6 7 7 6 5 4 4 4]]\n",
      "\n",
      "1642\n"
     ]
    }
   ],
   "source": [
    "with open(\"src/day11/input.txt\") as fileobject:\n",
    "    lines = fileobject.read().splitlines()\n",
    "    \n",
    "    grid = [[int(value) for value in line] for line in lines]\n",
    "    \n",
    "cave = Cave(len(grid))\n",
    "cave.fill_grid(grid)\n",
    "cave.print(\"Beginning of simulation\")\n",
    "\n",
    "for _ in range(100):\n",
    "    cave.advance_time()\n",
    "    \n",
    "cave.print(\"End\")    \n",
    "print(cave.number_of_flashes)"
   ]
  },
  {
   "cell_type": "markdown",
   "id": "52c467ce",
   "metadata": {},
   "source": [
    "## Part 2"
   ]
  },
  {
   "cell_type": "code",
   "execution_count": 129,
   "id": "b98d473a",
   "metadata": {},
   "outputs": [
    {
     "name": "stdout",
     "output_type": "stream",
     "text": [
      "Beginning of simulation\n",
      "[[4 5 7 5 3 5 5 6 2 3]\n",
      " [3 3 2 5 5 7 8 4 2 6]\n",
      " [7 8 8 5 1 6 5 5 7 6]\n",
      " [4 8 7 1 4 5 5 6 5 8]\n",
      " [3 7 2 2 5 4 5 3 1 2]\n",
      " [8 3 6 2 6 6 3 8 3 2]\n",
      " [5 5 6 2 7 4 3 3 2 4]\n",
      " [4 1 6 5 7 7 6 4 1 2]\n",
      " [1 8 1 7 8 1 3 6 7 5]\n",
      " [4 2 5 5 5 2 4 6 3 2]]\n",
      "\n"
     ]
    }
   ],
   "source": [
    "with open(\"src/day11/input.txt\") as fileobject:\n",
    "    lines = fileobject.read().splitlines()\n",
    "    \n",
    "    grid = [[int(value) for value in line] for line in lines]\n",
    "    \n",
    "cave = Cave(len(grid))\n",
    "cave.fill_grid(grid)\n",
    "cave.print(\"Beginning of simulation\")"
   ]
  },
  {
   "cell_type": "code",
   "execution_count": 130,
   "id": "7f8f1a05",
   "metadata": {},
   "outputs": [
    {
     "name": "stdout",
     "output_type": "stream",
     "text": [
      "mega_flash at time 320\n"
     ]
    }
   ],
   "source": [
    "mega_flash = False\n",
    "while not mega_flash:\n",
    "    cave.advance_time()\n",
    "    mega_flash = np.all(cave.grid==np.ravel(cave.grid)[0])\n",
    "    if mega_flash:\n",
    "        print(f\"mega_flash at time {t+1}\")\n",
    "    "
   ]
  }
 ],
 "metadata": {
  "kernelspec": {
   "display_name": "Python 3",
   "language": "python",
   "name": "python3"
  },
  "language_info": {
   "codemirror_mode": {
    "name": "ipython",
    "version": 3
   },
   "file_extension": ".py",
   "mimetype": "text/x-python",
   "name": "python",
   "nbconvert_exporter": "python",
   "pygments_lexer": "ipython3",
   "version": "3.8.10"
  }
 },
 "nbformat": 4,
 "nbformat_minor": 5
}
