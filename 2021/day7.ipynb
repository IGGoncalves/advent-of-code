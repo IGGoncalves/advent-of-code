{
 "cells": [
  {
   "cell_type": "markdown",
   "id": "4e0947fa",
   "metadata": {},
   "source": [
    "# 🐳 Day 7: The Treachery of Whales\n",
    "*A giant whale has decided your submarine is its next meal, and it's much faster than you are. There's nowhere to run!*\n",
    "\n",
    "## Part 1\n",
    "\n",
    "### 🧩 Solving the puzzle\n",
    "\n",
    "Although this is not very efficient, **we can calculate how much it would cost to move to a new position (x), and repeat this for all the possible positions** in our input file. Then, we return the lowest cost value we got."
   ]
  },
  {
   "cell_type": "code",
   "execution_count": 60,
   "id": "4108e805",
   "metadata": {},
   "outputs": [
    {
     "name": "stdout",
     "output_type": "stream",
     "text": [
      "The cheapest movement costs 336040 fuel units\n"
     ]
    }
   ],
   "source": [
    "# Read file\n",
    "with open(\"src/day7/input.txt\") as fileobject:\n",
    "    line = fileobject.readline().rstrip()\n",
    "    initial_positions = [int(value) for value in line.split(\",\")]\n",
    "\n",
    "# Get all the positions between 0 and the largest position in input file\n",
    "all_positions = range(max(initial_positions) + 1)\n",
    "\n",
    "# Compute the cost to move from the current position to a new position\n",
    "# Currently checks all the possible positions (tons of calculations...)\n",
    "cost = [sum([abs(position - target) \n",
    "             for position in initial_positions]) \n",
    "        for target in all_positions]\n",
    "\n",
    "# Get the lowest fuel cost\n",
    "movement_cost = min(cost)\n",
    "print(f\"The cheapest movement costs {movement_cost} fuel units\")"
   ]
  },
  {
   "cell_type": "markdown",
   "id": "9aafe5f2",
   "metadata": {},
   "source": [
    "## Part 2\n",
    "\n",
    "### ✨ Building a new cost function\n",
    "\n",
    "Part 2 is pretty similar to part 1. Yet, we need to update our **cost function**. Now, we need to take into account how many steps it will take to move into a new position. **At each step, the fuel cost increases by one**. Therefore, we can calculate the difference between two points, let's say 3 and 1, which would take 2 steps. Step 1 would cost 1 and step 2 would cost 2. We can use a `range` function to **create a list with as many members as the number of steps it would take**. In this case, this list would be [1, 2]. We can get our result by **adding the values of this list.**"
   ]
  },
  {
   "cell_type": "code",
   "execution_count": 65,
   "id": "34848e48",
   "metadata": {},
   "outputs": [
    {
     "name": "stdout",
     "output_type": "stream",
     "text": [
      "Moving from 16 to 5 would take 66 fuel units\n"
     ]
    }
   ],
   "source": [
    "def compute_cost(position1, position2):\n",
    "    \"\"\"Returns the fuel cost to move from one position to another (part2 rules)\"\"\"\n",
    "    difference = abs(position1 - position2)\n",
    "    return sum([value for value in range(1, difference + 1)])\n",
    "\n",
    "# Test the function\n",
    "value1 = 16\n",
    "value2 = 5\n",
    "print(f\"Moving from {value1} to {value2} would take {compute_cost(value1, value2)} fuel units\")"
   ]
  },
  {
   "cell_type": "markdown",
   "id": "5a917722",
   "metadata": {},
   "source": [
    "### 🧪 Testing our cost function\n",
    "\n",
    "Today I wanted to look into ways of using unit tests in Jupyter Notebooks."
   ]
  },
  {
   "cell_type": "code",
   "execution_count": 69,
   "id": "2fa99a62",
   "metadata": {},
   "outputs": [
    {
     "name": "stdout",
     "output_type": "stream",
     "text": [
      "Trying:\n",
      "    compute_cost(16, 5)\n",
      "Expecting:\n",
      "    66\n",
      "ok\n",
      "Trying:\n",
      "    compute_cost(1, 5)\n",
      "Expecting:\n",
      "    10\n",
      "ok\n",
      "2 items had no tests:\n",
      "    __main__\n",
      "    __main__.yapf_reformat\n",
      "1 items passed all tests:\n",
      "   2 tests in __main__.compute_cost\n",
      "2 tests in 3 items.\n",
      "2 passed and 0 failed.\n",
      "Test passed.\n"
     ]
    },
    {
     "data": {
      "text/plain": [
       "TestResults(failed=0, attempted=2)"
      ]
     },
     "execution_count": 69,
     "metadata": {},
     "output_type": "execute_result"
    }
   ],
   "source": [
    "import doctest\n",
    "\n",
    "def compute_cost(position1, position2):\n",
    "    \"\"\"\n",
    "    Returns the fuel cost to move from one position to another (part2 rules)\n",
    "    >>> compute_cost(16, 5)\n",
    "    66\n",
    "    >>> compute_cost(1, 5)\n",
    "    10\n",
    "    \"\"\"\n",
    "    difference = abs(position1 - position2)\n",
    "    return sum([value for value in range(1, difference + 1)])\n",
    "\n",
    "doctest.testmod(verbose=True)"
   ]
  },
  {
   "cell_type": "code",
   "execution_count": 80,
   "id": "3bc63419",
   "metadata": {},
   "outputs": [
    {
     "name": "stderr",
     "output_type": "stream",
     "text": [
      "test_cost_function (__main__.TestCostFunction)\n",
      "Test the cost function for part 2 ... ok\n",
      "test_simple_function (__main__.TestCostFunction)\n",
      "Test the cost function for part 1 ... ok\n",
      "\n",
      "----------------------------------------------------------------------\n",
      "Ran 2 tests in 0.002s\n",
      "\n",
      "OK\n"
     ]
    },
    {
     "data": {
      "text/plain": [
       "<unittest.main.TestProgram at 0x7f76ade36070>"
      ]
     },
     "execution_count": 80,
     "metadata": {},
     "output_type": "execute_result"
    }
   ],
   "source": [
    "import unittest\n",
    "\n",
    "class TestCostFunction(unittest.TestCase):\n",
    "    \"\"\"Class for testing the cost function for fuel consumption\"\"\"\n",
    "    \n",
    "    def test_simple_function(self):\n",
    "        \"\"\"Test the cost function for part 1\"\"\"\n",
    "        self.assertEqual(abs(16 - 2), 14)\n",
    "        \n",
    "    def test_cost_function(self):\n",
    "        \"\"\"Test the cost function for part 2\"\"\"\n",
    "        self.assertEqual(compute_cost(16, 5), 66)\n",
    "        \n",
    "\n",
    "unittest.main(argv=[''], verbosity=2, exit=False)"
   ]
  },
  {
   "cell_type": "markdown",
   "id": "fb1575c3",
   "metadata": {},
   "source": [
    "### 🧩 Solving the puzzle\n",
    "\n",
    "Let's do the same thing we did in part 1, **using the new cost function**. \n",
    "\n",
    "🐌 *Note: This is slowish for the input file.*"
   ]
  },
  {
   "cell_type": "code",
   "execution_count": 61,
   "id": "2a36a25d",
   "metadata": {},
   "outputs": [
    {
     "name": "stdout",
     "output_type": "stream",
     "text": [
      "The cheapest movement costs 94813675 fuel units\n"
     ]
    }
   ],
   "source": [
    "# Read file\n",
    "with open(\"src/day7/input.txt\") as fileobject:\n",
    "    line = fileobject.readline().rstrip()\n",
    "    initial_positions = [int(value) for value in line.split(\",\")]\n",
    "    \n",
    "# Compute the cost to move from the current position to a new position\n",
    "all_positions = range(max(initial_positions) + 1)\n",
    "cost = [sum([compute_cost(position, target)\n",
    "             for position in initial_positions]) \n",
    "        for target in all_positions]\n",
    "\n",
    "# Get the lowest fuel cost\n",
    "movement_cost = min(cost)\n",
    "print(f\"The cheapest movement costs {movement_cost} fuel units\")"
   ]
  }
 ],
 "metadata": {
  "kernelspec": {
   "display_name": "Python 3",
   "language": "python",
   "name": "python3"
  },
  "language_info": {
   "codemirror_mode": {
    "name": "ipython",
    "version": 3
   },
   "file_extension": ".py",
   "mimetype": "text/x-python",
   "name": "python",
   "nbconvert_exporter": "python",
   "pygments_lexer": "ipython3",
   "version": "3.8.10"
  }
 },
 "nbformat": 4,
 "nbformat_minor": 5
}
