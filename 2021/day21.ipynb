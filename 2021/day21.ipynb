{
 "cells": [
  {
   "cell_type": "markdown",
   "id": "90afb64c",
   "metadata": {},
   "source": [
    "# 🎲 Day 21: Dirac Dice"
   ]
  },
  {
   "cell_type": "code",
   "execution_count": 101,
   "id": "e5ee2888",
   "metadata": {},
   "outputs": [
    {
     "name": "stdout",
     "output_type": "stream",
     "text": [
      "PLAYER 1 WON\n",
      "999\n",
      "1006\n",
      "909\n"
     ]
    }
   ],
   "source": [
    "from dataclasses import dataclass\n",
    "from collections import deque\n",
    "\n",
    "from typing import Optional\n",
    "\n",
    "@dataclass\n",
    "class Player:\n",
    "    position: int\n",
    "    score: int = 0\n",
    "        \n",
    "    def move_up_the_table(self, value: int) -> int:\n",
    "        self.position += value\n",
    "        \n",
    "        if self.position > 10:\n",
    "            self.position = self.position % 10\n",
    "            if self.position == 0:\n",
    "                self.position = 10\n",
    "            \n",
    "        return self.position\n",
    "            \n",
    "    def play_turn(self, dice: deque) -> None:\n",
    "        last_value = dice[-1]\n",
    "        \n",
    "        move = 0\n",
    "        for _ in range(3):\n",
    "            move += dice.popleft()\n",
    "            \n",
    "        new_position = self.move_up_the_table(move)\n",
    "        \n",
    "        self.score += new_position\n",
    "            \n",
    "        for i in range(last_value+1, last_value+4):\n",
    "            dice.append(i)\n",
    "\n",
    "turn = 1\n",
    "dice = deque([i for i in range(1, 7)])\n",
    "        \n",
    "player1 = Player(position=10)\n",
    "player2 = Player(position=4)\n",
    "\n",
    "player1.play_turn(dice)\n",
    "player2.play_turn(dice)\n",
    "\n",
    "while player1.score < 1000 and player2.score < 1000:\n",
    "    turn += 1\n",
    "    player1.play_turn(dice)\n",
    "    if player1.score >= 1000:\n",
    "        print(\"PLAYER 1 WON\")\n",
    "        print(dice[0]-1)\n",
    "        print(player1.score)\n",
    "        print(player2.score)\n",
    "        break\n",
    "        \n",
    "    player2.play_turn(dice)    \n",
    "    if player2.score >= 1000:\n",
    "        print(\"PLAYER 2 WON\")\n",
    "        print(dice[0]-1)\n",
    "        print(player1.score)\n",
    "        print(player2.score)\n",
    "        break"
   ]
  },
  {
   "cell_type": "code",
   "execution_count": 102,
   "id": "fffecb08",
   "metadata": {},
   "outputs": [
    {
     "data": {
      "text/plain": [
       "908091"
      ]
     },
     "execution_count": 102,
     "metadata": {},
     "output_type": "execute_result"
    }
   ],
   "source": [
    "999*909"
   ]
  }
 ],
 "metadata": {
  "kernelspec": {
   "display_name": "Python 3",
   "language": "python",
   "name": "python3"
  },
  "language_info": {
   "codemirror_mode": {
    "name": "ipython",
    "version": 3
   },
   "file_extension": ".py",
   "mimetype": "text/x-python",
   "name": "python",
   "nbconvert_exporter": "python",
   "pygments_lexer": "ipython3",
   "version": "3.8.10"
  }
 },
 "nbformat": 4,
 "nbformat_minor": 5
}
