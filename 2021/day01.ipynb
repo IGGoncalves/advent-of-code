{
 "cells": [
  {
   "cell_type": "markdown",
   "metadata": {},
   "source": [
    "# 🎯 Day 1: Sonar Sweep\n",
    "\n",
    "*You're minding your own business on a ship at sea when the overboard alarm goes off!*\n",
    "\n",
    "## Part 1\n",
    "\n",
    "### 🧩 Solving the puzzle\n",
    "\n",
    "This year we're starting with a simple puzzle. We need to count the number of times an increase occurs in our input file. To do so, we'll need to read the file and then go through it and increase our counter every time the value in the current line is greater than the one in the previous line."
   ]
  },
  {
   "cell_type": "code",
   "execution_count": 20,
   "metadata": {},
   "outputs": [
    {
     "name": "stdout",
     "output_type": "stream",
     "text": [
      "1316\n"
     ]
    }
   ],
   "source": [
    "# Initialize our counter\n",
    "number_of_increases = 0\n",
    "\n",
    "with open(\"src/day1/input.txt\") as fileobject:\n",
    "    # Read the input file\n",
    "    lines = fileobject.read().splitlines() \n",
    "    values = [int(line) for line in lines]\n",
    "\n",
    "    # Go through the file to find the number of increases\n",
    "    for i, value in enumerate(values):\n",
    "        # We don't want to check the first line because there are no previous lines\n",
    "        if i == 0:\n",
    "            continue\n",
    "            \n",
    "        if value > values[i-1]:\n",
    "            number_of_increases += 1\n",
    "            \n",
    "print(f\"There were {number_of_increases} increases in the input file!\")"
   ]
  },
  {
   "cell_type": "markdown",
   "metadata": {},
   "source": [
    "## Part 2\n",
    "\n",
    "### 🔍 Creating a new list with the sliding window\n",
    "\n",
    "The puzzle for part 2 is pretty similar to part 1. However, now we want to process our input a bit before counting the number of increases. In particular, we want to use a sliding window to add up a number of values in our original list. Let's do it!"
   ]
  },
  {
   "cell_type": "code",
   "execution_count": null,
   "metadata": {},
   "outputs": [],
   "source": [
    "# Let's define the number of values to be added\n",
    "sliding_window_size = 3\n",
    "\n",
    "# Create the new list\n",
    "# the value at index 0 becomes [0]+[1]+[2], at index 1 becomes [1]+[2]+[3],...\n",
    "new_list = [sum(values[i:i+sliding_window_size]) \n",
    "            for i in range(0, len(values) - 2)]"
   ]
  },
  {
   "cell_type": "markdown",
   "metadata": {},
   "source": [
    "### 🧩 Solving the puzzle\n",
    "\n",
    "Now we can use the code we wrote before to count the number of increases in the new list."
   ]
  },
  {
   "cell_type": "code",
   "execution_count": 21,
   "metadata": {},
   "outputs": [
    {
     "name": "stdout",
     "output_type": "stream",
     "text": [
      "1344\n"
     ]
    }
   ],
   "source": [
    "# Count the number of increases in the new list\n",
    "number_of_increases = 0\n",
    "\n",
    "# Go through the file to find the number of increases\n",
    "for i, value in enumerate(new_list):\n",
    "    # We don't want to check the first line because there are no previous lines\n",
    "    if i == 0:\n",
    "        continue\n",
    "        \n",
    "    if value > new_list[i-1]:\n",
    "        number_of_increases += 1\n",
    "            \n",
    "print(f\"There were {number_of_increases} increases in the input file!\")"
   ]
  }
 ],
 "metadata": {
  "kernelspec": {
   "display_name": "Python 3",
   "language": "python",
   "name": "python3"
  },
  "language_info": {
   "codemirror_mode": {
    "name": "ipython",
    "version": 3
   },
   "file_extension": ".py",
   "mimetype": "text/x-python",
   "name": "python",
   "nbconvert_exporter": "python",
   "pygments_lexer": "ipython3",
   "version": "3.8.10"
  },
  "toc": {
   "base_numbering": 1,
   "nav_menu": {},
   "number_sections": true,
   "sideBar": true,
   "skip_h1_title": false,
   "title_cell": "Table of Contents",
   "title_sidebar": "Contents",
   "toc_cell": false,
   "toc_position": {},
   "toc_section_display": true,
   "toc_window_display": false
  }
 },
 "nbformat": 4,
 "nbformat_minor": 4
}
