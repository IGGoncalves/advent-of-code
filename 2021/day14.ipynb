{
 "cells": [
  {
   "cell_type": "markdown",
   "id": "f67d7fd4",
   "metadata": {},
   "source": [
    "# ⚗️ Day 14: Extended Polymerization\n",
    "\n",
    "*The incredible pressures at this depth are starting to put a strain on your submarine.*\n",
    "\n",
    "## Part 1\n",
    "\n",
    "Good news: Simple little solution. Bad news: Simple little solutions causes big big problems in about 15 iterations (and we need 40 😱)."
   ]
  },
  {
   "cell_type": "code",
   "execution_count": 58,
   "id": "7fa70dd1",
   "metadata": {},
   "outputs": [
    {
     "data": {
      "text/plain": [
       "2874"
      ]
     },
     "execution_count": 58,
     "metadata": {},
     "output_type": "execute_result"
    }
   ],
   "source": [
    "from collections import Counter\n",
    "\n",
    "# Extract the initial string and build a rules dictionary\n",
    "with open(\"src/day14/input.txt\") as fileobject:\n",
    "    lines = fileobject.read().splitlines()\n",
    "    start_element = \"\".join(lines[0])\n",
    "    rules = {first: second for line in lines[2:] for first, second in [line.split(\" -> \")]}\n",
    "    \n",
    "# Update string at each iteration\n",
    "for _ in range(10):\n",
    "    i = 0\n",
    "    while i < len(start_element) - 1:\n",
    "        # Extract pair and get new character based on rules\n",
    "        substring = start_element[i:i+2]\n",
    "        new_letter = rules[substring]\n",
    "        # Insert the new character into the string\n",
    "        start_element = start_element[:i+1] + new_letter + start_element[i+1:]\n",
    "        i += 2\n",
    "\n",
    "# Get difference between the most and least common occurrences\n",
    "counter = Counter(start_element)\n",
    "counter.most_common()[0][1] - counter.most_common()[-1][1]"
   ]
  },
  {
   "cell_type": "markdown",
   "id": "ada1a308",
   "metadata": {},
   "source": [
    "## Part 2\n",
    "\n",
    "I had to research a bit to understand how to tackle this problem without the previous strategy. Good thing is I learned something today 🤓."
   ]
  },
  {
   "cell_type": "code",
   "execution_count": 79,
   "id": "7056c1b0",
   "metadata": {},
   "outputs": [
    {
     "data": {
      "text/plain": [
       "2874"
      ]
     },
     "execution_count": 79,
     "metadata": {},
     "output_type": "execute_result"
    }
   ],
   "source": [
    "with open(\"src/day14/input.txt\") as fileobject:\n",
    "    lines = fileobject.read().splitlines()\n",
    "    start_element = \"\".join(lines[0])\n",
    "    rules = {first: second for line in lines[2:] for first, second in [line.split(\" -> \")]}\n",
    "\n",
    "# Create counter to store the number of occurrences of each element\n",
    "elements = Counter(start_element)\n",
    "# Create counter to store the element pairs\n",
    "pairs = Counter(start_element[i:i+2] for i in range(len(start_element) - 1))\n",
    "\n",
    "# Update counters at each iteration\n",
    "for _ in range(10):\n",
    "    new_pairs = Counter()\n",
    "    for pair, num in pairs.items():\n",
    "        # Get new character based on pair\n",
    "        first, second = pair\n",
    "        new_character = rules[pair]\n",
    "        # Add the new pairs to the pair counter\n",
    "        new_pairs[first + new_character] += num\n",
    "        new_pairs[new_character + second] += num\n",
    "        # Add the new element to the element counter\n",
    "        elements[new_character] += num\n",
    "    \n",
    "    # Update  counter\n",
    "    pairs = new_pairs\n",
    "\n",
    "# Get difference between the most and least common occurrences\n",
    "elements.most_common()[0][1] - elements.most_common()[-1][1]"
   ]
  }
 ],
 "metadata": {
  "kernelspec": {
   "display_name": "Python 3",
   "language": "python",
   "name": "python3"
  },
  "language_info": {
   "codemirror_mode": {
    "name": "ipython",
    "version": 3
   },
   "file_extension": ".py",
   "mimetype": "text/x-python",
   "name": "python",
   "nbconvert_exporter": "python",
   "pygments_lexer": "ipython3",
   "version": "3.8.10"
  }
 },
 "nbformat": 4,
 "nbformat_minor": 5
}
