{
 "cells": [
  {
   "cell_type": "markdown",
   "metadata": {},
   "source": [
    "# 🎯 Day 1: Sonar Sweep (aka Right Round)\n",
    "\n",
    "*You're minding your own business on a ship at sea when the overboard alarm goes off!*\n",
    "\n",
    "## Part 1"
   ]
  },
  {
   "cell_type": "code",
   "execution_count": 20,
   "metadata": {},
   "outputs": [
    {
     "name": "stdout",
     "output_type": "stream",
     "text": [
      "1316\n"
     ]
    }
   ],
   "source": [
    "number_of_increases = 0\n",
    "\n",
    "with open(\"src/day1/input.txt\") as fileobject:\n",
    "    lines = fileobject.read().splitlines() \n",
    "    for i, line in enumerate(lines):\n",
    "        if i == 0:\n",
    "            continue\n",
    "            \n",
    "        if int(line) > int(lines[i-1]):\n",
    "            number_of_increases += 1\n",
    "            \n",
    "print(number_of_increases)"
   ]
  },
  {
   "cell_type": "markdown",
   "metadata": {},
   "source": [
    "## Part 2"
   ]
  },
  {
   "cell_type": "code",
   "execution_count": 21,
   "metadata": {},
   "outputs": [
    {
     "name": "stdout",
     "output_type": "stream",
     "text": [
      "1344\n"
     ]
    }
   ],
   "source": [
    "number_of_increases = 0\n",
    "sliding_window_size = 3\n",
    "\n",
    "lines = [int(line) for line in lines]\n",
    "new_list = [sum(lines[i:i+sliding_window_size]) \n",
    "            for i in range(0, len(lines) - 2)]\n",
    "\n",
    "for i, line in enumerate(new_list):\n",
    "        if i == 0:\n",
    "            continue\n",
    "            \n",
    "        if int(line) > int(new_list[i-1]):\n",
    "            number_of_increases += 1\n",
    "            \n",
    "print(number_of_increases)"
   ]
  }
 ],
 "metadata": {
  "kernelspec": {
   "display_name": "Python 3",
   "language": "python",
   "name": "python3"
  },
  "language_info": {
   "codemirror_mode": {
    "name": "ipython",
    "version": 3
   },
   "file_extension": ".py",
   "mimetype": "text/x-python",
   "name": "python",
   "nbconvert_exporter": "python",
   "pygments_lexer": "ipython3",
   "version": "3.8.10"
  },
  "toc": {
   "base_numbering": 1,
   "nav_menu": {},
   "number_sections": true,
   "sideBar": true,
   "skip_h1_title": false,
   "title_cell": "Table of Contents",
   "title_sidebar": "Contents",
   "toc_cell": false,
   "toc_position": {},
   "toc_section_display": true,
   "toc_window_display": false
  }
 },
 "nbformat": 4,
 "nbformat_minor": 4
}
