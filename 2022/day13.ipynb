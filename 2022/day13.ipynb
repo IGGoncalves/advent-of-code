{
 "cells": [
  {
   "cell_type": "code",
   "execution_count": 35,
   "metadata": {},
   "outputs": [
    {
     "data": {
      "text/plain": [
       "[]"
      ]
     },
     "execution_count": 35,
     "metadata": {},
     "output_type": "execute_result"
    }
   ],
   "source": [
    "import ast\n",
    "\n",
    "with open(\"src/day13_test.txt\") as file:\n",
    "    lines = file.read().splitlines()\n",
    "\n",
    "incorrect_order_pairs = []\n",
    "i = 0\n",
    "index = 1\n",
    "while i < len(lines[:3]):\n",
    "    pair1 = ast.literal_eval(lines[i])\n",
    "    pair2 = ast.literal_eval(lines[i+1])\n",
    "\n",
    "    if len(pair1) != len(pair2):\n",
    "        if len(pair1) > len(pair2):\n",
    "            incorrect_order_pairs.append(index)\n",
    "    else:\n",
    "        for comp1, comp2 in zip(pair1, pair2):\n",
    "            if comp1 > comp2:\n",
    "                incorrect_order_pairs.append(index)\n",
    "\n",
    "    i += 3\n",
    "    index += 1\n",
    "\n",
    "incorrect_order_pairs"
   ]
  }
 ],
 "metadata": {
  "kernelspec": {
   "display_name": "Python 3",
   "language": "python",
   "name": "python3"
  },
  "language_info": {
   "codemirror_mode": {
    "name": "ipython",
    "version": 3
   },
   "file_extension": ".py",
   "mimetype": "text/x-python",
   "name": "python",
   "nbconvert_exporter": "python",
   "pygments_lexer": "ipython3",
   "version": "3.8.13"
  },
  "orig_nbformat": 4,
  "vscode": {
   "interpreter": {
    "hash": "9ac03a0a6051494cc606d484d27d20fce22fb7b4d169f583271e11d5ba46a56e"
   }
  }
 },
 "nbformat": 4,
 "nbformat_minor": 2
}
