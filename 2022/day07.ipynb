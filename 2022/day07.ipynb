{
 "cells": [
  {
   "cell_type": "code",
   "execution_count": 39,
   "metadata": {},
   "outputs": [
    {
     "data": {
      "text/plain": [
       "1857742"
      ]
     },
     "execution_count": 39,
     "metadata": {},
     "output_type": "execute_result"
    }
   ],
   "source": [
    "from dataclasses import dataclass\n",
    "from typing import List\n",
    "\n",
    "def get_directory_sum(lines: List[str], directories: List[str]) -> int:\n",
    "    dir_sum = 0\n",
    "    for line in lines:\n",
    "        if \"$\" in line:\n",
    "            break\n",
    "\n",
    "        if \"dir \" not in line:\n",
    "            size, _ = line.split(\" \")\n",
    "            dir_sum += int(size)\n",
    "\n",
    "        else:\n",
    "            _, dir_name = line.split(\" \")\n",
    "            directories.append(dir_name)\n",
    "            idx = lines.index(f\"$ cd {dir_name}\")\n",
    "            dir_sum += get_directory_sum(lines[idx+2:],  directories)\n",
    "    \n",
    "    if dir_sum <= 100000:\n",
    "        return dir_sum\n",
    "\n",
    "    return 0\n",
    "\n",
    "with open(\"src/day07_input.txt\") as file:\n",
    "    lines = file.read().splitlines()\n",
    "\n",
    "    total_sum = 0\n",
    "    i = 2\n",
    "    \n",
    "    while i < len(lines):\n",
    "        if lines[i][0] == \"$\":\n",
    "            if \"cd\" in lines[i][2:]:\n",
    "                _, dir_name = lines[i][2:].split(\" \")\n",
    "                if dir_name != \"..\": \n",
    "                    directories.append(dir_name)\n",
    "                    idx = lines.index(f\"$ cd {dir_name}\")\n",
    "                    total_sum += get_directory_sum(lines[idx+2:], directories)\n",
    "    \n",
    "        i += 1\n",
    "\n",
    "total_sum"
   ]
  }
 ],
 "metadata": {
  "kernelspec": {
   "display_name": "Python 3",
   "language": "python",
   "name": "python3"
  },
  "language_info": {
   "codemirror_mode": {
    "name": "ipython",
    "version": 3
   },
   "file_extension": ".py",
   "mimetype": "text/x-python",
   "name": "python",
   "nbconvert_exporter": "python",
   "pygments_lexer": "ipython3",
   "version": "3.8.13"
  },
  "orig_nbformat": 4,
  "vscode": {
   "interpreter": {
    "hash": "9ac03a0a6051494cc606d484d27d20fce22fb7b4d169f583271e11d5ba46a56e"
   }
  }
 },
 "nbformat": 4,
 "nbformat_minor": 2
}
