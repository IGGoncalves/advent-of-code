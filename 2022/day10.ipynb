{
 "cells": [
  {
   "attachments": {},
   "cell_type": "markdown",
   "metadata": {},
   "source": [
    "# 🔦 Cathode-Ray Tube"
   ]
  },
  {
   "cell_type": "code",
   "execution_count": 10,
   "metadata": {},
   "outputs": [
    {
     "data": {
      "text/plain": [
       "13680"
      ]
     },
     "execution_count": 10,
     "metadata": {},
     "output_type": "execute_result"
    }
   ],
   "source": [
    "# instructions = [\"noop\", \"addx 3\", \"addx -5\"]\n",
    "\n",
    "cycle = 1\n",
    "register = 1\n",
    "values = []\n",
    "recording_intervals = [20, 60, 100, 140, 180, 220]\n",
    "\n",
    "with open(\"src/day10_input.txt\") as file:\n",
    "    instructions = file.read().splitlines()\n",
    "\n",
    "    for i, instruction in enumerate(instructions):\n",
    "        if cycle in recording_intervals:\n",
    "            values.append(cycle*register)\n",
    "\n",
    "        if instruction == \"noop\":\n",
    "            cycle += 1\n",
    "            continue\n",
    "        \n",
    "        cycle += 1\n",
    "        if cycle in recording_intervals:\n",
    "            values.append(cycle*register)\n",
    "\n",
    "        cycle += 1\n",
    "        _, sum_value = instruction.split(\" \")\n",
    "        register += int(sum_value)\n",
    "\n",
    "        if i == len(instructions) - 1:\n",
    "            if cycle in recording_intervals:\n",
    "                values.append(cycle*register)\n",
    "\n",
    "sum(values)"
   ]
  },
  {
   "cell_type": "code",
   "execution_count": 46,
   "metadata": {},
   "outputs": [
    {
     "name": "stdout",
     "output_type": "stream",
     "text": [
      "##..##..#..##...##.##..##..##..##..##..\n",
      ".###..####....#.....#...####..####......\n",
      "..#......####.....#.....##.#......#.....\n",
      ".##.......##.#......#####.....##.#......\n",
      ".###.##.....##.##.......####........##.#\n",
      ".###..#.......##.#.#........########.....\n"
     ]
    }
   ],
   "source": [
    "cycle = 1\n",
    "current_pixel = 0\n",
    "register = 1\n",
    "values = \"\"\n",
    "recording_intervals = range(40, 221, 40)\n",
    "\n",
    "with open(\"src/day10_test.txt\") as file:\n",
    "    instructions = file.read().splitlines()\n",
    "\n",
    "    for i, instruction in enumerate(instructions):\n",
    "        if instruction == \"noop\":\n",
    "            cycle += 1\n",
    "            values += \".\"\n",
    "            current_pixel += 1\n",
    "            if cycle in recording_intervals:\n",
    "                values += \"\\n\"\n",
    "            continue\n",
    "        \n",
    "        possible_pixels = [i for i in range(current_pixel % 40, current_pixel % 40 + 3)]\n",
    "\n",
    "        cycle += 1\n",
    "        if register in possible_pixels:\n",
    "            values += \"#\"\n",
    "        else:\n",
    "            values += \".\"\n",
    "\n",
    "        if cycle in recording_intervals:\n",
    "            values += \"\\n\"\n",
    "        current_pixel += 1\n",
    "\n",
    "        cycle += 1\n",
    "        possible_pixels = [i for i in range(current_pixel % 40, current_pixel % 40 + 3)]\n",
    "\n",
    "        if register in possible_pixels:\n",
    "            values += \"#\"\n",
    "        else:\n",
    "            values += \".\"\n",
    "        if cycle in recording_intervals:\n",
    "            values += \"\\n\"\n",
    "        current_pixel += 1\n",
    "\n",
    "        _, sum_value = instruction.split(\" \")\n",
    "        register += int(sum_value)\n",
    "        sprite_position += int(sum_value)\n",
    "\n",
    "print(values)"
   ]
  },
  {
   "cell_type": "code",
   "execution_count": 30,
   "metadata": {},
   "outputs": [
    {
     "data": {
      "text/plain": [
       "0"
      ]
     },
     "execution_count": 30,
     "metadata": {},
     "output_type": "execute_result"
    }
   ],
   "source": [
    "40 % 40"
   ]
  }
 ],
 "metadata": {
  "kernelspec": {
   "display_name": "Python 3",
   "language": "python",
   "name": "python3"
  },
  "language_info": {
   "codemirror_mode": {
    "name": "ipython",
    "version": 3
   },
   "file_extension": ".py",
   "mimetype": "text/x-python",
   "name": "python",
   "nbconvert_exporter": "python",
   "pygments_lexer": "ipython3",
   "version": "3.8.13"
  },
  "orig_nbformat": 4,
  "vscode": {
   "interpreter": {
    "hash": "9ac03a0a6051494cc606d484d27d20fce22fb7b4d169f583271e11d5ba46a56e"
   }
  }
 },
 "nbformat": 4,
 "nbformat_minor": 2
}
