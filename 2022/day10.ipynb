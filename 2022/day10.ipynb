{
 "cells": [
  {
   "attachments": {},
   "cell_type": "markdown",
   "metadata": {},
   "source": [
    "# 🔦 Cathode-Ray Tube"
   ]
  },
  {
   "cell_type": "code",
   "execution_count": 10,
   "metadata": {},
   "outputs": [
    {
     "data": {
      "text/plain": [
       "13680"
      ]
     },
     "execution_count": 10,
     "metadata": {},
     "output_type": "execute_result"
    }
   ],
   "source": [
    "# instructions = [\"noop\", \"addx 3\", \"addx -5\"]\n",
    "\n",
    "cycle = 1\n",
    "register = 1\n",
    "values = []\n",
    "recording_intervals = [20, 60, 100, 140, 180, 220]\n",
    "\n",
    "with open(\"src/day10_input.txt\") as file:\n",
    "    instructions = file.read().splitlines()\n",
    "\n",
    "    for i, instruction in enumerate(instructions):\n",
    "        if cycle in recording_intervals:\n",
    "            values.append(cycle*register)\n",
    "\n",
    "        if instruction == \"noop\":\n",
    "            cycle += 1\n",
    "            continue\n",
    "        \n",
    "        cycle += 1\n",
    "        if cycle in recording_intervals:\n",
    "            values.append(cycle*register)\n",
    "\n",
    "        cycle += 1\n",
    "        _, sum_value = instruction.split(\" \")\n",
    "        register += int(sum_value)\n",
    "\n",
    "        if i == len(instructions) - 1:\n",
    "            if cycle in recording_intervals:\n",
    "                values.append(cycle*register)\n",
    "\n",
    "sum(values)"
   ]
  },
  {
   "cell_type": "code",
   "execution_count": 54,
   "metadata": {},
   "outputs": [
    {
     "name": "stdout",
     "output_type": "stream",
     "text": [
      "##..##..##..##..##..##..##..##..##..##..\n",
      "###...###....##....##...###...###.....#.\n",
      ".###....####.....##.....#.##.....###....\n",
      "##........####......#####.....#.##......\n",
      "######......####........###..#......####\n",
      "####.##.......#.####........#######.....\n"
     ]
    }
   ],
   "source": [
    "cycle = 1\n",
    "register = 1\n",
    "values = \"\"\n",
    "recording_intervals = range(40, 221, 40)\n",
    "\n",
    "with open(\"src/day10_test.txt\") as file:\n",
    "    instructions = file.read().splitlines()\n",
    "\n",
    "    for i, instruction in enumerate(instructions):\n",
    "        if instruction == \"noop\":\n",
    "            values += \".\"\n",
    "            if cycle in recording_intervals:\n",
    "                values += \"\\n\"\n",
    "            cycle += 1\n",
    "            current_pixel = cycle % 40 - 1 if cycle % 40 - 1 != -1 else 39\n",
    "            continue\n",
    "        \n",
    "        possible_pixels = [i for i in range(register - 1, register + 2)]\n",
    "        if current_pixel in possible_pixels:\n",
    "            values += \"#\"\n",
    "        else:\n",
    "            values += \".\"\n",
    "        if cycle in recording_intervals:\n",
    "            values += \"\\n\"\n",
    "\n",
    "        cycle += 1\n",
    "        current_pixel = cycle % 40 - 1 if cycle % 40 - 1 != -1 else 39\n",
    "\n",
    "        if current_pixel in possible_pixels:\n",
    "            values += \"#\"\n",
    "        else:\n",
    "            values += \".\"\n",
    "\n",
    "        if cycle in recording_intervals:\n",
    "            values += \"\\n\"\n",
    "\n",
    "        cycle += 1\n",
    "        current_pixel = cycle % 40 - 1 if cycle % 40 - 1 != -1 else 39\n",
    "        _, sum_value = instruction.split(\" \")\n",
    "        register += int(sum_value)\n",
    "\n",
    "\n",
    "print(values)"
   ]
  },
  {
   "cell_type": "code",
   "execution_count": 23,
   "metadata": {},
   "outputs": [
    {
     "data": {
      "text/plain": [
       "0"
      ]
     },
     "execution_count": 23,
     "metadata": {},
     "output_type": "execute_result"
    }
   ],
   "source": []
  }
 ],
 "metadata": {
  "kernelspec": {
   "display_name": "Python 3",
   "language": "python",
   "name": "python3"
  },
  "language_info": {
   "codemirror_mode": {
    "name": "ipython",
    "version": 3
   },
   "file_extension": ".py",
   "mimetype": "text/x-python",
   "name": "python",
   "nbconvert_exporter": "python",
   "pygments_lexer": "ipython3",
   "version": "3.8.13"
  },
  "orig_nbformat": 4,
  "vscode": {
   "interpreter": {
    "hash": "9ac03a0a6051494cc606d484d27d20fce22fb7b4d169f583271e11d5ba46a56e"
   }
  }
 },
 "nbformat": 4,
 "nbformat_minor": 2
}
