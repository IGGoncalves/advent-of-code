{
 "cells": [
  {
   "cell_type": "markdown",
   "metadata": {},
   "source": [
    "# 🥞 Calorie Count\n",
    "\n",
    "## Part 1"
   ]
  },
  {
   "cell_type": "code",
   "execution_count": 13,
   "metadata": {},
   "outputs": [
    {
     "data": {
      "text/plain": [
       "66719"
      ]
     },
     "execution_count": 13,
     "metadata": {},
     "output_type": "execute_result"
    }
   ],
   "source": [
    "# Initialize our counter\n",
    "current_max = total_max = 0\n",
    "\n",
    "# Loop through the file, computing the calories for each elf\n",
    "# Save only the total maximum value\n",
    "with open(\"src/day01_input.txt\") as fileobject:\n",
    "    # Store the file in a list\n",
    "    lines = fileobject.read().splitlines() \n",
    "\n",
    "    for i, line in enumerate(lines):\n",
    "        # If the line is a number, add it to the current max\n",
    "        if line != \"\":\n",
    "            current_max += int(line)\n",
    "            # If the end of the file is reached, compare the elf's weight to total max\n",
    "            if i == (len(line) - 1):\n",
    "                total_max = max(total_max, current_max)\n",
    "        # If the line is blank, compare the elf's weight to total max and reset current max\n",
    "        else:\n",
    "            total_max = max(total_max, current_max)\n",
    "            current_max = 0\n",
    "\n",
    "total_max"
   ]
  },
  {
   "cell_type": "markdown",
   "metadata": {},
   "source": [
    "## Part 2"
   ]
  },
  {
   "cell_type": "code",
   "execution_count": 25,
   "metadata": {},
   "outputs": [
    {
     "name": "stdout",
     "output_type": "stream",
     "text": [
      "198551\n"
     ]
    }
   ],
   "source": [
    "# Initialize counter and a list to store maximum values\n",
    "current_max = 0\n",
    "calories = []\n",
    "\n",
    "# Loop through the list created before, save all max values\n",
    "for i, line in enumerate(lines):\n",
    "    if line != \"\":\n",
    "        current_max += int(line)\n",
    "        if i == (len(line) - 1):\n",
    "            calories.append(current_max)\n",
    "    else:\n",
    "        calories.append(current_max)\n",
    "        current_max = 0\n",
    "\n",
    "# Sort the list in ascending order and get the sum of the last three numbers\n",
    "calories.sort()\n",
    "print(sum(calories[-3:]))"
   ]
  }
 ],
 "metadata": {
  "kernelspec": {
   "display_name": "Python 3",
   "language": "python",
   "name": "python3"
  },
  "language_info": {
   "codemirror_mode": {
    "name": "ipython",
    "version": 3
   },
   "file_extension": ".py",
   "mimetype": "text/x-python",
   "name": "python",
   "nbconvert_exporter": "python",
   "pygments_lexer": "ipython3",
   "version": "3.8.13 (default, Oct  4 2022, 14:00:32) \n[GCC 9.4.0]"
  },
  "toc": {
   "base_numbering": 1,
   "nav_menu": {},
   "number_sections": true,
   "sideBar": true,
   "skip_h1_title": false,
   "title_cell": "Table of Contents",
   "title_sidebar": "Contents",
   "toc_cell": false,
   "toc_position": {},
   "toc_section_display": true,
   "toc_window_display": false
  },
  "vscode": {
   "interpreter": {
    "hash": "9ac03a0a6051494cc606d484d27d20fce22fb7b4d169f583271e11d5ba46a56e"
   }
  }
 },
 "nbformat": 4,
 "nbformat_minor": 4
}
