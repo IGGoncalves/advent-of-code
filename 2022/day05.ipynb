{
 "cells": [
  {
   "cell_type": "markdown",
   "metadata": {},
   "source": [
    "# 📦 Supply Stacks"
   ]
  },
  {
   "cell_type": "code",
   "execution_count": 46,
   "metadata": {},
   "outputs": [
    {
     "name": "stdout",
     "output_type": "stream",
     "text": [
      "CMZ\n"
     ]
    }
   ],
   "source": [
    "import re\n",
    "from typing import Dict, List\n",
    "\n",
    "def decode_string(command: str) -> Dict[str, int]:\n",
    "    values = re.findall(r'\\d+', command) \n",
    "\n",
    "    return {\"quantity\": int(values[0]),\n",
    "            \"from\": int(values[1]),\n",
    "            \"to\": int(values[2])}\n",
    "\n",
    "def get_message(stacks: Dict[int, List[str]]) -> str:\n",
    "    return \"\".join([values[-1] for values in stacks.values()])\n",
    "\n",
    "stacks = {1: [\"Z\", \"N\"], 2: [\"M\", \"C\", \"D\"], 3: [\"P\"]}\n",
    "\n",
    "with open(\"src/day05_test.txt\") as file:\n",
    "    lines = file.read().splitlines()\n",
    "\n",
    "    for line in lines:\n",
    "        instructions = decode_string(line)\n",
    "        for i in range(instructions[\"quantity\"]):\n",
    "            stacks[instructions[\"to\"]].append(stacks[instructions[\"from\"]][-1])\n",
    "            stacks[instructions[\"from\"]].pop()\n",
    "\n",
    "print(get_message(stacks))"
   ]
  },
  {
   "cell_type": "code",
   "execution_count": 47,
   "metadata": {},
   "outputs": [
    {
     "name": "stdout",
     "output_type": "stream",
     "text": [
      "CVCWCRTVQ\n"
     ]
    }
   ],
   "source": [
    "stacks = {1: [\"W\", \"R\", \"F\"], \n",
    "          2: [\"T\", \"H\", \"M\", \"C\", \"D\", \"V\", \"W\", \"P\"], \n",
    "          3: [\"P\", \"M\", \"Z\", \"N\", \"L\"],\n",
    "          4: [\"J\", \"C\", \"H\", \"R\"],\n",
    "          5: [\"C\", \"P\", \"G\", \"H\", \"Q\", \"T\", \"B\"],\n",
    "          6: [\"G\", \"C\", \"W\", \"L\", \"F\", \"Z\"],\n",
    "          7: [\"W\", \"V\", \"L\", \"Q\", \"Z\", \"J\", \"G\", \"C\"],\n",
    "          8: [\"P\", \"N\", \"R\", \"F\", \"W\", \"T\", \"V\", \"C\"],\n",
    "          9: [\"J\", \"W\", \"H\", \"G\", \"R\", \"S\", \"V\"]}\n",
    "\n",
    "with open(\"src/day05_input.txt\") as file:\n",
    "    lines = file.read().splitlines()\n",
    "\n",
    "    for line in lines:\n",
    "        instructions = decode_string(line)\n",
    "        for i in range(instructions[\"quantity\"]):\n",
    "            stacks[instructions[\"to\"]].append(stacks[instructions[\"from\"]][-1])\n",
    "            stacks[instructions[\"from\"]].pop()\n",
    "\n",
    "print(get_message(stacks))"
   ]
  },
  {
   "cell_type": "code",
   "execution_count": 48,
   "metadata": {},
   "outputs": [
    {
     "name": "stdout",
     "output_type": "stream",
     "text": [
      "MCD\n"
     ]
    }
   ],
   "source": [
    "stacks = {1: [\"Z\", \"N\"], 2: [\"M\", \"C\", \"D\"], 3: [\"P\"]}\n",
    "\n",
    "with open(\"src/day05_test.txt\") as file:\n",
    "    lines = file.read().splitlines()\n",
    "\n",
    "    for line in lines:\n",
    "        instructions = decode_string(line)\n",
    "        quantity = instructions[\"quantity\"]\n",
    "        moving_stack = stacks[instructions[\"from\"]][-quantity:]\n",
    "        for value in moving_stack:\n",
    "            stacks[instructions[\"to\"]].append(value)\n",
    "            stacks[instructions[\"from\"]].pop()\n",
    "\n",
    "print(get_message(stacks))"
   ]
  },
  {
   "cell_type": "code",
   "execution_count": 49,
   "metadata": {},
   "outputs": [
    {
     "name": "stdout",
     "output_type": "stream",
     "text": [
      "CNSCZWLVT\n"
     ]
    }
   ],
   "source": [
    "stacks = {1: [\"W\", \"R\", \"F\"], \n",
    "          2: [\"T\", \"H\", \"M\", \"C\", \"D\", \"V\", \"W\", \"P\"], \n",
    "          3: [\"P\", \"M\", \"Z\", \"N\", \"L\"],\n",
    "          4: [\"J\", \"C\", \"H\", \"R\"],\n",
    "          5: [\"C\", \"P\", \"G\", \"H\", \"Q\", \"T\", \"B\"],\n",
    "          6: [\"G\", \"C\", \"W\", \"L\", \"F\", \"Z\"],\n",
    "          7: [\"W\", \"V\", \"L\", \"Q\", \"Z\", \"J\", \"G\", \"C\"],\n",
    "          8: [\"P\", \"N\", \"R\", \"F\", \"W\", \"T\", \"V\", \"C\"],\n",
    "          9: [\"J\", \"W\", \"H\", \"G\", \"R\", \"S\", \"V\"]}\n",
    "\n",
    "with open(\"src/day05_input.txt\") as file:\n",
    "    lines = file.read().splitlines()\n",
    "\n",
    "    for line in lines:\n",
    "        instructions = decode_string(line)\n",
    "        quantity = instructions[\"quantity\"]\n",
    "        moving_stack = stacks[instructions[\"from\"]][-quantity:]\n",
    "        for value in moving_stack:\n",
    "            stacks[instructions[\"to\"]].append(value)\n",
    "            stacks[instructions[\"from\"]].pop()\n",
    "\n",
    "print(get_message(stacks))"
   ]
  }
 ],
 "metadata": {
  "kernelspec": {
   "display_name": "Python 3",
   "language": "python",
   "name": "python3"
  },
  "language_info": {
   "codemirror_mode": {
    "name": "ipython",
    "version": 3
   },
   "file_extension": ".py",
   "mimetype": "text/x-python",
   "name": "python",
   "nbconvert_exporter": "python",
   "pygments_lexer": "ipython3",
   "version": "3.8.13"
  },
  "orig_nbformat": 4,
  "vscode": {
   "interpreter": {
    "hash": "9ac03a0a6051494cc606d484d27d20fce22fb7b4d169f583271e11d5ba46a56e"
   }
  }
 },
 "nbformat": 4,
 "nbformat_minor": 2
}
