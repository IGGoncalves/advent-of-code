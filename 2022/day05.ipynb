{
 "cells": [
  {
   "cell_type": "markdown",
   "metadata": {},
   "source": [
    "# 📦 Supply Stacks"
   ]
  },
  {
   "cell_type": "markdown",
   "metadata": {},
   "source": [
    "## Decoding moves\n",
    "\n",
    "Didn't have a lot of free time today, so I focused on manually defining the stacks and dealing with automating moving things between stacks. \n",
    "\n",
    "### Part 1"
   ]
  },
  {
   "cell_type": "code",
   "execution_count": 3,
   "metadata": {},
   "outputs": [
    {
     "name": "stdout",
     "output_type": "stream",
     "text": [
      "CMZ\n"
     ]
    }
   ],
   "source": [
    "import re\n",
    "from typing import Dict, List\n",
    "\n",
    "def decode_string(command: str) -> Dict[str, int]:\n",
    "    values = re.findall(r'\\d+', command) \n",
    "\n",
    "    return {\"quantity\": int(values[0]),\n",
    "            \"from\": int(values[1]),\n",
    "            \"to\": int(values[2])}\n",
    "\n",
    "def get_message(stacks: Dict[int, List[str]]) -> str:\n",
    "    return \"\".join([values[-1] for values in stacks.values()])\n",
    "\n",
    "stacks = {1: [\"Z\", \"N\"], 2: [\"M\", \"C\", \"D\"], 3: [\"P\"]}\n",
    "\n",
    "with open(\"src/day05_test_easy.txt\") as file:\n",
    "    lines = file.read().splitlines()\n",
    "\n",
    "    for line in lines:\n",
    "        instructions = decode_string(line)\n",
    "        for i in range(instructions[\"quantity\"]):\n",
    "            stacks[instructions[\"to\"]].append(stacks[instructions[\"from\"]][-1])\n",
    "            stacks[instructions[\"from\"]].pop()\n",
    "\n",
    "print(get_message(stacks))"
   ]
  },
  {
   "cell_type": "code",
   "execution_count": 4,
   "metadata": {},
   "outputs": [
    {
     "name": "stdout",
     "output_type": "stream",
     "text": [
      "CVCWCRTVQ\n"
     ]
    }
   ],
   "source": [
    "stacks = {1: [\"W\", \"R\", \"F\"], \n",
    "          2: [\"T\", \"H\", \"M\", \"C\", \"D\", \"V\", \"W\", \"P\"], \n",
    "          3: [\"P\", \"M\", \"Z\", \"N\", \"L\"],\n",
    "          4: [\"J\", \"C\", \"H\", \"R\"],\n",
    "          5: [\"C\", \"P\", \"G\", \"H\", \"Q\", \"T\", \"B\"],\n",
    "          6: [\"G\", \"C\", \"W\", \"L\", \"F\", \"Z\"],\n",
    "          7: [\"W\", \"V\", \"L\", \"Q\", \"Z\", \"J\", \"G\", \"C\"],\n",
    "          8: [\"P\", \"N\", \"R\", \"F\", \"W\", \"T\", \"V\", \"C\"],\n",
    "          9: [\"J\", \"W\", \"H\", \"G\", \"R\", \"S\", \"V\"]}\n",
    "\n",
    "with open(\"src/day05_input_easy.txt\") as file:\n",
    "    lines = file.read().splitlines()\n",
    "\n",
    "    for line in lines:\n",
    "        instructions = decode_string(line)\n",
    "        for i in range(instructions[\"quantity\"]):\n",
    "            stacks[instructions[\"to\"]].append(stacks[instructions[\"from\"]][-1])\n",
    "            stacks[instructions[\"from\"]].pop()\n",
    "\n",
    "print(get_message(stacks))"
   ]
  },
  {
   "cell_type": "markdown",
   "metadata": {},
   "source": [
    "### Part 2"
   ]
  },
  {
   "cell_type": "code",
   "execution_count": 6,
   "metadata": {},
   "outputs": [
    {
     "name": "stdout",
     "output_type": "stream",
     "text": [
      "MCD\n"
     ]
    }
   ],
   "source": [
    "stacks = {1: [\"Z\", \"N\"], 2: [\"M\", \"C\", \"D\"], 3: [\"P\"]}\n",
    "\n",
    "with open(\"src/day05_test_easy.txt\") as file:\n",
    "    lines = file.read().splitlines()\n",
    "\n",
    "    for line in lines:\n",
    "        instructions = decode_string(line)\n",
    "        quantity = instructions[\"quantity\"]\n",
    "        moving_stack = stacks[instructions[\"from\"]][-quantity:]\n",
    "        for value in moving_stack:\n",
    "            stacks[instructions[\"to\"]].append(value)\n",
    "            stacks[instructions[\"from\"]].pop()\n",
    "\n",
    "print(get_message(stacks))"
   ]
  },
  {
   "cell_type": "code",
   "execution_count": 9,
   "metadata": {},
   "outputs": [
    {
     "name": "stdout",
     "output_type": "stream",
     "text": [
      "CNSCZWLVT\n"
     ]
    }
   ],
   "source": [
    "stacks = {1: [\"W\", \"R\", \"F\"], \n",
    "          2: [\"T\", \"H\", \"M\", \"C\", \"D\", \"V\", \"W\", \"P\"], \n",
    "          3: [\"P\", \"M\", \"Z\", \"N\", \"L\"],\n",
    "          4: [\"J\", \"C\", \"H\", \"R\"],\n",
    "          5: [\"C\", \"P\", \"G\", \"H\", \"Q\", \"T\", \"B\"],\n",
    "          6: [\"G\", \"C\", \"W\", \"L\", \"F\", \"Z\"],\n",
    "          7: [\"W\", \"V\", \"L\", \"Q\", \"Z\", \"J\", \"G\", \"C\"],\n",
    "          8: [\"P\", \"N\", \"R\", \"F\", \"W\", \"T\", \"V\", \"C\"],\n",
    "          9: [\"J\", \"W\", \"H\", \"G\", \"R\", \"S\", \"V\"]}\n",
    "\n",
    "with open(\"src/day05_input_easy.txt\") as file:\n",
    "    lines = file.read().splitlines()\n",
    "\n",
    "    for line in lines:\n",
    "        instructions = decode_string(line)\n",
    "        quantity = instructions[\"quantity\"]\n",
    "        moving_stack = stacks[instructions[\"from\"]][-quantity:]\n",
    "        for value in moving_stack:\n",
    "            stacks[instructions[\"to\"]].append(value)\n",
    "            stacks[instructions[\"from\"]].pop()\n",
    "\n",
    "print(get_message(stacks))"
   ]
  },
  {
   "cell_type": "markdown",
   "metadata": {},
   "source": [
    "## Parsing the stacks\n",
    "\n",
    "Going back to this problem to automatically create the stacks objects."
   ]
  },
  {
   "cell_type": "code",
   "execution_count": 37,
   "metadata": {},
   "outputs": [
    {
     "name": "stdout",
     "output_type": "stream",
     "text": [
      "CMZ\n"
     ]
    }
   ],
   "source": [
    "def parse_stacks_info(stack_data: List[str]) -> Dict[int, str]:\n",
    "    # Find how many stacks there are\n",
    "    stack_ids = [int(stack_id) \n",
    "                 for stack_id in re.findall(r'\\d+', stack_rules[-1])]\n",
    "    stacks = {}\n",
    "\n",
    "    for stack_id in stack_ids:\n",
    "        # Find the column that defines this stack\n",
    "        idx = stack_rules[-1].index(str(stack_id))\n",
    "        # Gather crates bottom-up\n",
    "        crates = [stack_rules[i][idx] \n",
    "                  for i in range(divider-2, -1, -1) \n",
    "                  if stack_rules[i][idx] != \" \"]\n",
    "        # Save data to stacks dict\n",
    "        stacks[stack_id] = crates\n",
    "\n",
    "    return stacks\n",
    "\n",
    "with open(\"src/day05_test.txt\") as file:\n",
    "    lines = file.read().splitlines()\n",
    "\n",
    "    # Split the rules to build the stacks from the movement commands\n",
    "    divider = lines.index(\"\")\n",
    "    stack_rules = lines[:divider]\n",
    "    commands = lines[divider+1:]\n",
    "\n",
    "    # Turn stacks data into a dictionary\n",
    "    stacks = parse_stacks_info(stack_rules)\n",
    "\n",
    "    for line in commands:\n",
    "        instructions = decode_string(line)\n",
    "        for i in range(instructions[\"quantity\"]):\n",
    "            stacks[instructions[\"to\"]].append(stacks[instructions[\"from\"]][-1])\n",
    "            stacks[instructions[\"from\"]].pop()\n",
    "\n",
    "    print(get_message(stacks))"
   ]
  },
  {
   "cell_type": "code",
   "execution_count": 38,
   "metadata": {},
   "outputs": [
    {
     "name": "stdout",
     "output_type": "stream",
     "text": [
      "MCD\n"
     ]
    }
   ],
   "source": [
    "# Split the rules to build the stacks from the movement commands\n",
    "divider = lines.index(\"\")\n",
    "stack_rules = lines[:divider]\n",
    "commands = lines[divider+1:]\n",
    "\n",
    "# Turn stacks data into a dictionary\n",
    "stacks = parse_stacks_info(stack_rules)\n",
    "\n",
    "for line in commands:\n",
    "    instructions = decode_string(line)\n",
    "    quantity = instructions[\"quantity\"]\n",
    "    moving_stack = stacks[instructions[\"from\"]][-quantity:]\n",
    "    for value in moving_stack:\n",
    "        stacks[instructions[\"to\"]].append(value)\n",
    "        stacks[instructions[\"from\"]].pop()\n",
    "\n",
    "print(get_message(stacks))"
   ]
  }
 ],
 "metadata": {
  "kernelspec": {
   "display_name": "Python 3",
   "language": "python",
   "name": "python3"
  },
  "language_info": {
   "codemirror_mode": {
    "name": "ipython",
    "version": 3
   },
   "file_extension": ".py",
   "mimetype": "text/x-python",
   "name": "python",
   "nbconvert_exporter": "python",
   "pygments_lexer": "ipython3",
   "version": "3.8.13"
  },
  "orig_nbformat": 4,
  "vscode": {
   "interpreter": {
    "hash": "9ac03a0a6051494cc606d484d27d20fce22fb7b4d169f583271e11d5ba46a56e"
   }
  }
 },
 "nbformat": 4,
 "nbformat_minor": 2
}
