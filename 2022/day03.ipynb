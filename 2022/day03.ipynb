{
 "cells": [
  {
   "cell_type": "markdown",
   "metadata": {},
   "source": [
    "# 🎒 Rucksack Reorganization"
   ]
  },
  {
   "cell_type": "code",
   "execution_count": 46,
   "metadata": {},
   "outputs": [
    {
     "name": "stdout",
     "output_type": "stream",
     "text": [
      "7850\n"
     ]
    }
   ],
   "source": [
    "def find_common_sack_type(compartment_A: str, compartment_B: str) -> str:\n",
    "    \"\"\"Finds the common letter between two strings\"\"\" \n",
    "    for sack_type in compartment_A:\n",
    "        if sack_type in compartment_B:\n",
    "            return sack_type\n",
    "\n",
    "def find_priority(letter: str) -> int:\n",
    "    \"\"\"Converts letters to a priority number\"\"\"\n",
    "    if letter.islower():\n",
    "        return ord(letter) - 96\n",
    "    return ord(letter) - 38\n",
    "\n",
    "priority_sum = 0\n",
    "\n",
    "with open(\"src/day03_input.txt\") as fileobject:\n",
    "    # Store the file in a list\n",
    "    rucksacks = fileobject.read().splitlines()\n",
    "\n",
    "    for sack in rucksacks:\n",
    "        # Split rucksack in two compartments\n",
    "        compartment_A = sack[:int(len(sack)/2)]\n",
    "        compartment_B = sack[int(len(sack)/2):]\n",
    "        \n",
    "        # Find the common type, convert it to priority and add to sum\n",
    "        common_sack = find_common_sack_type(compartment_A, compartment_B)\n",
    "        priority_sum += find_priority(common_sack)\n",
    "\n",
    "print(priority_sum)"
   ]
  },
  {
   "cell_type": "code",
   "execution_count": 44,
   "metadata": {},
   "outputs": [
    {
     "name": "stdout",
     "output_type": "stream",
     "text": [
      "2581\n"
     ]
    }
   ],
   "source": [
    "def find_badge(sack_1: str, sack_2: str, sack_3: str) -> str:\n",
    "    \"\"\"Finds common letter between three strings\"\"\"\n",
    "    # Find all common types between two of the sacks\n",
    "    common_types = []\n",
    "    for sack_type in sack_1:\n",
    "        if sack_type in sack_2:\n",
    "            common_types.append(sack_type)\n",
    "\n",
    "    # Find the type commmon to the intersection and the other sack\n",
    "    return find_common_sack_type(common_types, sack_3)\n",
    "\n",
    "# Find common type between groups ([0, 1, 2], ..., [i, i+1, i+2])\n",
    "# Convert type to priority and save it to list\n",
    "priorities = [find_priority(find_badge(rucksacks[i], rucksacks[i+1], rucksacks[i+2])) \n",
    "              for i in range(0, len(rucksacks), 3)]\n",
    "\n",
    "# Print the sum of the priorities\n",
    "print(sum(priorities))"
   ]
  }
 ],
 "metadata": {
  "kernelspec": {
   "display_name": "Python 3",
   "language": "python",
   "name": "python3"
  },
  "language_info": {
   "codemirror_mode": {
    "name": "ipython",
    "version": 3
   },
   "file_extension": ".py",
   "mimetype": "text/x-python",
   "name": "python",
   "nbconvert_exporter": "python",
   "pygments_lexer": "ipython3",
   "version": "3.8.13"
  },
  "orig_nbformat": 4,
  "vscode": {
   "interpreter": {
    "hash": "9ac03a0a6051494cc606d484d27d20fce22fb7b4d169f583271e11d5ba46a56e"
   }
  }
 },
 "nbformat": 4,
 "nbformat_minor": 2
}
