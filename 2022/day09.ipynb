{
 "cells": [
  {
   "attachments": {},
   "cell_type": "markdown",
   "metadata": {},
   "source": [
    "# 🪢 Rope Bridge"
   ]
  },
  {
   "cell_type": "code",
   "execution_count": 40,
   "metadata": {},
   "outputs": [
    {
     "data": {
      "text/plain": [
       "5902"
      ]
     },
     "execution_count": 40,
     "metadata": {},
     "output_type": "execute_result"
    }
   ],
   "source": [
    "tail = [0, 0]\n",
    "head = [0, 0]\n",
    "\n",
    "grid = []\n",
    "\n",
    "with open(\"src/day09_input.txt\") as file:\n",
    "    commands = file.read().splitlines()\n",
    "\n",
    "    for command in commands:\n",
    "        direction, value = command.split(\" \")\n",
    "\n",
    "        for _ in range(int(value)):\n",
    "            if direction == \"R\":\n",
    "                head[1] += 1\n",
    "            elif direction == \"L\":\n",
    "                head[1] -= 1\n",
    "            elif direction == \"U\":\n",
    "                head[0] += 1\n",
    "            elif direction == \"D\":\n",
    "                head[0] -= 1\n",
    "\n",
    "            vert_distance = head[0] - tail[0]\n",
    "            hor_distance = head[1] - tail[1]\n",
    "\n",
    "            if abs(vert_distance) + abs(hor_distance) <= 2:\n",
    "                if abs(vert_distance) > 1:\n",
    "                    step = 1 if vert_distance >= 0 else -1\n",
    "                    tail[0] += step\n",
    "                if abs(hor_distance) > 1:\n",
    "                    step = 1 if hor_distance >= 0 else -1\n",
    "                    tail[1] += step\n",
    "            else:\n",
    "                vert_step = 1 if vert_distance >= 0 else -1\n",
    "                hor_step = 1 if hor_distance >= 0 else -1\n",
    "                tail[0] += vert_step\n",
    "                tail[1] += hor_step\n",
    "            \n",
    "            if tail not in grid:\n",
    "                grid.append(tail.copy())\n",
    "\n",
    "len(grid)"
   ]
  }
 ],
 "metadata": {
  "kernelspec": {
   "display_name": "Python 3",
   "language": "python",
   "name": "python3"
  },
  "language_info": {
   "codemirror_mode": {
    "name": "ipython",
    "version": 3
   },
   "file_extension": ".py",
   "mimetype": "text/x-python",
   "name": "python",
   "nbconvert_exporter": "python",
   "pygments_lexer": "ipython3",
   "version": "3.8.13"
  },
  "orig_nbformat": 4,
  "vscode": {
   "interpreter": {
    "hash": "9ac03a0a6051494cc606d484d27d20fce22fb7b4d169f583271e11d5ba46a56e"
   }
  }
 },
 "nbformat": 4,
 "nbformat_minor": 2
}
