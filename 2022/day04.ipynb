{
 "cells": [
  {
   "cell_type": "markdown",
   "metadata": {},
   "source": [
    "# ⛺ Camp Cleanup"
   ]
  },
  {
   "cell_type": "code",
   "execution_count": 26,
   "metadata": {},
   "outputs": [
    {
     "name": "stdout",
     "output_type": "stream",
     "text": [
      "466\n"
     ]
    }
   ],
   "source": [
    "from typing import List\n",
    "\n",
    "def get_region(region_range: str) -> List[int]:\n",
    "    first, last = region_range.split(\"-\")\n",
    "    return [n for n in range(int(first), int(last) + 1)]\n",
    "\n",
    "def check_contain(first: List[int], second: List[int]) -> bool:\n",
    "    if len(first) > len(second):\n",
    "        temp = first.copy()\n",
    "        first = second\n",
    "        second = temp\n",
    "\n",
    "    intersection = []\n",
    "    for value in first:\n",
    "        if value in second:\n",
    "            intersection.append(value)\n",
    "\n",
    "    if len(first) == len(intersection):\n",
    "        return True\n",
    "\n",
    "    return False\n",
    "\n",
    "number_of_full_contains = 0\n",
    "\n",
    "with open(\"src/day04_input.txt\") as file:\n",
    "    lines = file.read().splitlines()\n",
    "\n",
    "    for line in lines:\n",
    "        region_1, region_2 = line.split(\",\")\n",
    "        region_1_values = get_region(region_1)\n",
    "        region_2_values = get_region(region_2)\n",
    "        if (check_contain(region_1_values, region_2_values)):\n",
    "            number_of_full_contains += 1\n",
    "\n",
    "print(number_of_full_contains)"
   ]
  },
  {
   "cell_type": "code",
   "execution_count": 27,
   "metadata": {},
   "outputs": [
    {
     "name": "stdout",
     "output_type": "stream",
     "text": [
      "865\n"
     ]
    }
   ],
   "source": [
    "def check_overlap(first: List[int], second: List[int]) -> bool:\n",
    "    if len(first) > len(second):\n",
    "        temp = first.copy()\n",
    "        first = second\n",
    "        second = temp\n",
    "\n",
    "    for value in first:\n",
    "        if value in second:\n",
    "            return True\n",
    "\n",
    "    return False\n",
    "\n",
    "number_of_overlaps = 0\n",
    "\n",
    "for line in lines:\n",
    "    region_1, region_2 = line.split(\",\")\n",
    "    region_1_values = get_region(region_1)\n",
    "    region_2_values = get_region(region_2)\n",
    "    if (check_overlap(region_1_values, region_2_values)):\n",
    "        number_of_overlaps += 1\n",
    "\n",
    "print(number_of_overlaps)"
   ]
  }
 ],
 "metadata": {
  "kernelspec": {
   "display_name": "Python 3",
   "language": "python",
   "name": "python3"
  },
  "language_info": {
   "codemirror_mode": {
    "name": "ipython",
    "version": 3
   },
   "file_extension": ".py",
   "mimetype": "text/x-python",
   "name": "python",
   "nbconvert_exporter": "python",
   "pygments_lexer": "ipython3",
   "version": "3.8.13"
  },
  "orig_nbformat": 4,
  "vscode": {
   "interpreter": {
    "hash": "9ac03a0a6051494cc606d484d27d20fce22fb7b4d169f583271e11d5ba46a56e"
   }
  }
 },
 "nbformat": 4,
 "nbformat_minor": 2
}
