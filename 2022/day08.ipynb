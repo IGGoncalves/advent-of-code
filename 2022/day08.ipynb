{
 "cells": [
  {
   "attachments": {},
   "cell_type": "markdown",
   "metadata": {},
   "source": [
    "# 🌴 Treetop Tree House"
   ]
  },
  {
   "cell_type": "code",
   "execution_count": 21,
   "metadata": {},
   "outputs": [
    {
     "data": {
      "text/plain": [
       "1792"
      ]
     },
     "execution_count": 21,
     "metadata": {},
     "output_type": "execute_result"
    }
   ],
   "source": [
    "with open(\"src/day08_input.txt\") as file:\n",
    "    lines = [[int(value) for value in line] \n",
    "             for line in file.read().splitlines()]\n",
    "\n",
    "    visible_trees = []\n",
    "\n",
    "    for i, row in enumerate(lines):\n",
    "        for j, column in enumerate(row):\n",
    "            if i == 0 or j == 0 or i == len(lines)-1 or j == len(row)-1:\n",
    "                visible_trees.append([i,j])\n",
    "            else:\n",
    "                # Check top\n",
    "                top_trees = [lines[k][j] for k in range(i)]\n",
    "                smaller_top = [value for value in top_trees if value < column]\n",
    "                if len(top_trees) == len(smaller_top):\n",
    "                    visible_trees.append([i,j])\n",
    "                    continue\n",
    "                # Check bottom\n",
    "                bottom_trees = [lines[k][j] for k in range(i+1, len(lines))]\n",
    "                smaller_bottom = [value for value in bottom_trees if value < column]\n",
    "                if len(bottom_trees) == len(smaller_bottom):\n",
    "                    visible_trees.append([i,j])\n",
    "                    continue\n",
    "                # Check left\n",
    "                left_trees = [lines[i][k] for k in range(j)]\n",
    "                smaller_left = [value for value in left_trees if value < column]\n",
    "                if len(left_trees) == len(smaller_left):\n",
    "                    visible_trees.append([i,j])\n",
    "                    continue\n",
    "                # Check right\n",
    "                right_trees = [lines[i][k] for k in range(j+1, len(row))]\n",
    "                smaller_right = [value for value in right_trees if value < column]\n",
    "                if len(right_trees) == len(smaller_right):\n",
    "                    visible_trees.append([i,j])\n",
    "                    continue\n",
    "\n",
    "len(visible_trees)"
   ]
  },
  {
   "cell_type": "code",
   "execution_count": 22,
   "metadata": {},
   "outputs": [
    {
     "name": "stdout",
     "output_type": "stream",
     "text": [
      "334880\n"
     ]
    }
   ],
   "source": [
    "with open(\"src/day08_input.txt\") as file:\n",
    "    lines = [[int(value) for value in line] \n",
    "             for line in file.read().splitlines()]\n",
    "\n",
    "    best_scenic_score = 0\n",
    "\n",
    "    for i, row in enumerate(lines):\n",
    "        for j, column in enumerate(row):\n",
    "            # Check top\n",
    "            top_trees = [lines[k][j] for k in range(i)]\n",
    "            top_trees_num = 0\n",
    "            for tree in reversed(top_trees):\n",
    "                top_trees_num += 1\n",
    "                if tree >= column:\n",
    "                    break\n",
    "\n",
    "            # Check bottom\n",
    "            bottom_trees = [lines[k][j] for k in range(i+1, len(lines))]\n",
    "            bottom_trees_num = 0\n",
    "            for tree in bottom_trees:\n",
    "                bottom_trees_num += 1\n",
    "                if tree >= column:\n",
    "                    break\n",
    "\n",
    "            # Check left\n",
    "            left_trees = [lines[i][k] for k in range(j)]\n",
    "            left_trees_num = 0\n",
    "            for tree in reversed(left_trees):\n",
    "                left_trees_num += 1\n",
    "                if tree >= column:\n",
    "                    break\n",
    "\n",
    "            # Check right\n",
    "            right_trees = [lines[i][k] for k in range(j+1, len(row))]\n",
    "            right_trees_num = 0\n",
    "            for tree in right_trees:\n",
    "                right_trees_num += 1\n",
    "                if tree >= column:\n",
    "                    break\n",
    "\n",
    "            scenic_score = top_trees_num * bottom_trees_num * left_trees_num * right_trees_num\n",
    "            best_scenic_score = max(best_scenic_score, scenic_score)\n",
    "\n",
    "print(best_scenic_score)"
   ]
  }
 ],
 "metadata": {
  "kernelspec": {
   "display_name": "Python 3",
   "language": "python",
   "name": "python3"
  },
  "language_info": {
   "codemirror_mode": {
    "name": "ipython",
    "version": 3
   },
   "file_extension": ".py",
   "mimetype": "text/x-python",
   "name": "python",
   "nbconvert_exporter": "python",
   "pygments_lexer": "ipython3",
   "version": "3.8.13"
  },
  "orig_nbformat": 4,
  "vscode": {
   "interpreter": {
    "hash": "9ac03a0a6051494cc606d484d27d20fce22fb7b4d169f583271e11d5ba46a56e"
   }
  }
 },
 "nbformat": 4,
 "nbformat_minor": 2
}
