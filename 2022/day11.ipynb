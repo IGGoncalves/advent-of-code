{
 "cells": [
  {
   "attachments": {},
   "cell_type": "markdown",
   "metadata": {},
   "source": [
    "# 🐵 Monkey in the Middle"
   ]
  },
  {
   "cell_type": "code",
   "execution_count": 91,
   "metadata": {},
   "outputs": [
    {
     "data": {
      "text/plain": [
       "{0: {'items': [91, 54, 70, 61, 64, 64, 60, 85],\n",
       "  'expression': ['old', '*', '13'],\n",
       "  'test': 2,\n",
       "  'throw_true': 5,\n",
       "  'throw_false': 2},\n",
       " 1: {'items': [82],\n",
       "  'expression': ['old', '+', '7'],\n",
       "  'test': 13,\n",
       "  'throw_true': 4,\n",
       "  'throw_false': 3},\n",
       " 2: {'items': [84, 93, 70],\n",
       "  'expression': ['old', '+', '2'],\n",
       "  'test': 5,\n",
       "  'throw_true': 5,\n",
       "  'throw_false': 1},\n",
       " 3: {'items': [78, 56, 85, 93],\n",
       "  'expression': ['old', '*', '2'],\n",
       "  'test': 3,\n",
       "  'throw_true': 6,\n",
       "  'throw_false': 7},\n",
       " 4: {'items': [64, 57, 81, 95, 52, 71, 58],\n",
       "  'expression': ['old', '*', 'old'],\n",
       "  'test': 11,\n",
       "  'throw_true': 7,\n",
       "  'throw_false': 3},\n",
       " 5: {'items': [58, 71, 96, 58, 68, 90],\n",
       "  'expression': ['old', '+', '6'],\n",
       "  'test': 17,\n",
       "  'throw_true': 4,\n",
       "  'throw_false': 1},\n",
       " 6: {'items': [56, 99, 89, 97, 81],\n",
       "  'expression': ['old', '+', '1'],\n",
       "  'test': 7,\n",
       "  'throw_true': 0,\n",
       "  'throw_false': 2},\n",
       " 7: {'items': [68, 72],\n",
       "  'expression': ['old', '+', '8'],\n",
       "  'test': 19,\n",
       "  'throw_true': 6,\n",
       "  'throw_false': 0}}"
      ]
     },
     "execution_count": 91,
     "metadata": {},
     "output_type": "execute_result"
    }
   ],
   "source": [
    "import re\n",
    "\n",
    "def add_values(x, y):\n",
    "    return x + y\n",
    "\n",
    "def multiply_values(x, y):\n",
    "    return x * y\n",
    "\n",
    "operation_dict = {\"+\": add_values, \"*\": multiply_values}\n",
    "\n",
    "monkeys = {}\n",
    "\n",
    "with open(\"src/day11_input.txt\") as file:\n",
    "    instructions = file.read().splitlines()\n",
    "\n",
    "start_idx = 0\n",
    "end_idxs = [i for i, instruction in enumerate(instructions) if instruction == \"\"]\n",
    "end_idxs.append(len(instructions))\n",
    "\n",
    "for end_idx in end_idxs:\n",
    "    monkey = {}\n",
    "    monkey_id = int(instructions[start_idx].split(\" \")[1][0])\n",
    "    monkey[\"items\"] = [int(worry) for worry in instructions[start_idx+1].split(\"  Starting items: \")[1].split(\", \")]\n",
    "    monkey[\"expression\"] = instructions[start_idx+2].split(\"  Operation: new = \")[1].split(\" \")\n",
    "    monkey[\"test\"] = int(re.search(' by (\\d+)', instructions[start_idx+3]).group(1))\n",
    "    monkey[\"throw_true\"] = int(re.search(' monkey (\\d+)', instructions[start_idx+4]).group(1))\n",
    "    monkey[\"throw_false\"] = int(re.search(' monkey (\\d+)', instructions[start_idx+5]).group(1))\n",
    "    start_idx = end_idx + 1\n",
    "    monkeys[monkey_id] = monkey\n",
    "\n",
    "monkeys"
   ]
  },
  {
   "cell_type": "code",
   "execution_count": 92,
   "metadata": {},
   "outputs": [
    {
     "name": "stdout",
     "output_type": "stream",
     "text": [
      "117624\n"
     ]
    }
   ],
   "source": [
    "import math\n",
    "\n",
    "counter = [0 for _ in monkeys]\n",
    "\n",
    "for _ in range(20):\n",
    "    for monkey_id, monkey in monkeys.items():\n",
    "        checked_items = 0\n",
    "        for item in monkey[\"items\"]:\n",
    "            worry_level = item\n",
    "            if monkey[\"expression\"][2] != \"old\":\n",
    "                operation_value = int(monkey[\"expression\"][2])\n",
    "            else:\n",
    "                operation_value = worry_level\n",
    "            worry_level = operation_dict[monkey[\"expression\"][1]](worry_level, operation_value)\n",
    "            worry_level = math.floor(worry_level / 3)\n",
    "            if worry_level % monkey[\"test\"] == 0:\n",
    "                monkeys[monkey[\"throw_true\"]][\"items\"].append(worry_level)\n",
    "            else:\n",
    "                monkeys[monkey[\"throw_false\"]][\"items\"].append(worry_level)\n",
    "\n",
    "        counter[monkey_id] += len(monkey[\"items\"])\n",
    "        monkey[\"items\"] = []\n",
    "\n",
    "counter.sort()\n",
    "print(counter[-1]*counter[-2])"
   ]
  }
 ],
 "metadata": {
  "kernelspec": {
   "display_name": "Python 3",
   "language": "python",
   "name": "python3"
  },
  "language_info": {
   "codemirror_mode": {
    "name": "ipython",
    "version": 3
   },
   "file_extension": ".py",
   "mimetype": "text/x-python",
   "name": "python",
   "nbconvert_exporter": "python",
   "pygments_lexer": "ipython3",
   "version": "3.8.13"
  },
  "orig_nbformat": 4,
  "vscode": {
   "interpreter": {
    "hash": "9ac03a0a6051494cc606d484d27d20fce22fb7b4d169f583271e11d5ba46a56e"
   }
  }
 },
 "nbformat": 4,
 "nbformat_minor": 2
}
