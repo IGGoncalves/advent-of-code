{
 "cells": [
  {
   "cell_type": "markdown",
   "metadata": {},
   "source": [
    "# 🎲 Rock, Paper, Scissors"
   ]
  },
  {
   "cell_type": "code",
   "execution_count": 18,
   "metadata": {},
   "outputs": [
    {
     "name": "stdout",
     "output_type": "stream",
     "text": [
      "11767\n"
     ]
    }
   ],
   "source": [
    "THEIR_MOVES = {\"A\": 1, \"B\": 2, \"C\": 3}\n",
    "YOUR_MOVES = {\"X\": 1, \"Y\": 2, \"Z\": 3}\n",
    "\n",
    "ROCK_SCORES = {\"X\": 3, \"Y\": 6, \"Z\": 0}\n",
    "PAPER_SCORES = {\"X\": 0, \"Y\": 3, \"Z\": 6}\n",
    "SCISSORS_SCORES = {\"X\": 6, \"Y\": 0, \"Z\": 3}\n",
    "\n",
    "total_points = 0\n",
    "\n",
    "with open(\"src/day02_input.txt\") as fileobject:\n",
    "    # Store the file in a list\n",
    "    plays = [[moves for moves in line.split(\" \")] \n",
    "            for line in fileobject.read().splitlines()]\n",
    "\n",
    "    for moves in plays:\n",
    "        move_points = YOUR_MOVES[moves[1]]\n",
    "        if moves[0] == \"A\":\n",
    "            match_points = ROCK_SCORES[moves[1]]\n",
    "        elif moves[0] == \"B\":\n",
    "            match_points = PAPER_SCORES[moves[1]]\n",
    "        else:\n",
    "            match_points = SCISSORS_SCORES[moves[1]]\n",
    "        total_points += move_points + match_points\n",
    "\n",
    "print(total_points)"
   ]
  },
  {
   "cell_type": "code",
   "execution_count": 19,
   "metadata": {},
   "outputs": [
    {
     "name": "stdout",
     "output_type": "stream",
     "text": [
      "13886\n"
     ]
    }
   ],
   "source": [
    "LOSE_MOVES = {\"A\": \"Z\", \"B\": \"X\", \"C\": \"Y\"}\n",
    "TIE_MOVES = {\"A\": \"X\", \"B\": \"Y\", \"C\": \"Z\"}\n",
    "WIN_MOVES = {\"A\": \"Y\", \"B\": \"Z\", \"C\": \"X\"}\n",
    "\n",
    "total_points = 0\n",
    "\n",
    "for moves in plays:\n",
    "    if moves[1] == \"X\":\n",
    "        match_points = 0\n",
    "        move_points = YOUR_MOVES[LOSE_MOVES[moves[0]]]\n",
    "\n",
    "    elif moves[1] == \"Y\":\n",
    "        match_points = 3\n",
    "        move_points = YOUR_MOVES[TIE_MOVES[moves[0]]]\n",
    "    else:\n",
    "        match_points = 6\n",
    "        move_points = YOUR_MOVES[WIN_MOVES[moves[0]]]\n",
    "    \n",
    "    total_points += move_points + match_points\n",
    "\n",
    "print(total_points)"
   ]
  }
 ],
 "metadata": {
  "kernelspec": {
   "display_name": "Python 3",
   "language": "python",
   "name": "python3"
  },
  "language_info": {
   "codemirror_mode": {
    "name": "ipython",
    "version": 3
   },
   "file_extension": ".py",
   "mimetype": "text/x-python",
   "name": "python",
   "nbconvert_exporter": "python",
   "pygments_lexer": "ipython3",
   "version": "3.8.13"
  },
  "orig_nbformat": 4,
  "vscode": {
   "interpreter": {
    "hash": "9ac03a0a6051494cc606d484d27d20fce22fb7b4d169f583271e11d5ba46a56e"
   }
  }
 },
 "nbformat": 4,
 "nbformat_minor": 2
}
