{
 "cells": [
  {
   "cell_type": "markdown",
   "id": "9f244df3",
   "metadata": {},
   "source": [
    "# ✅ Day 10: Syntax Scoring\n",
    "\n",
    "*You ask the submarine to determine the best route out of the deep-sea cave, but it only replies: \"Syntax error in navigation subsystem on line: all of them\"*\n",
    "\n",
    "## Part 1"
   ]
  },
  {
   "cell_type": "code",
   "execution_count": 43,
   "id": "429fe84b",
   "metadata": {},
   "outputs": [
    {
     "name": "stdout",
     "output_type": "stream",
     "text": [
      "Did a woopsie: got 3 points\n"
     ]
    }
   ],
   "source": [
    "def find_close_character_match(character: str, open_characters: list) -> int:\n",
    "    if open_characters[-1] != close_dict[character]:\n",
    "        return points_dict[character]\n",
    "    \n",
    "    return 0\n",
    "    \n",
    "close_dict = {\")\": \"(\",\n",
    "              \"]\": \"[\",\n",
    "              \"}\": \"{\",\n",
    "              \">\": \"<\"}\n",
    "\n",
    "points_dict = {\")\": 3,\n",
    "               \"]\": 57,\n",
    "               \"}\": 1197,\n",
    "               \">\": 25137}\n",
    "\n",
    "chunk = \"[[<[([]))<([[{}[[()]]]\"\n",
    "\n",
    "open_parentheses = []\n",
    "\n",
    "total_points = 0\n",
    "for char in chunk:\n",
    "    if char in close_dict.values():\n",
    "        open_parentheses.append(char)\n",
    "        continue\n",
    "        \n",
    "    if open_parentheses:\n",
    "        points = find_close_character_match(char, open_parentheses)\n",
    "        if points > 0:\n",
    "            total_points += 0\n",
    "            print(f\"Did a woopsie: got {points} points\")\n",
    "            break\n",
    "\n",
    "        open_parentheses.pop()"
   ]
  },
  {
   "cell_type": "markdown",
   "id": "71862897",
   "metadata": {},
   "source": [
    "## Part 2"
   ]
  },
  {
   "cell_type": "code",
   "execution_count": 68,
   "id": "67abb0a0",
   "metadata": {},
   "outputs": [
    {
     "data": {
      "text/plain": [
       "2421222841"
      ]
     },
     "execution_count": 68,
     "metadata": {},
     "output_type": "execute_result"
    }
   ],
   "source": [
    "completion_dict = {\"(\": 1,\n",
    "                   \"[\": 2,\n",
    "                   \"{\": 3,\n",
    "                   \"<\": 4}\n",
    "\n",
    "with open(\"src/day10/input.txt\") as fileobject:\n",
    "    chunks = fileobject.read().splitlines()\n",
    "\n",
    "    total_points = 0\n",
    "    completion_scores = []\n",
    "    for chunk in chunks:\n",
    "        chunk_valid = True\n",
    "        open_parentheses = []\n",
    "        score = 0\n",
    "        for char in chunk:\n",
    "            if char in close_dict.values():\n",
    "                open_parentheses.append(char)\n",
    "                continue\n",
    "\n",
    "            if open_parentheses:\n",
    "                points = find_close_character_match(char, open_parentheses)\n",
    "                if points > 0:\n",
    "                    total_points += points\n",
    "                    chunk_valid = False\n",
    "                    break\n",
    "\n",
    "                open_parentheses.pop()\n",
    "                \n",
    "        if chunk_valid:\n",
    "            for open_char in reversed(open_parentheses):\n",
    "                score = score*5 + completion_dict[open_char]\n",
    "            \n",
    "            completion_scores.append(score)\n",
    "                \n",
    "sorted(completion_scores)[int(len(completion_scores) / 2)]"
   ]
  },
  {
   "cell_type": "code",
   "execution_count": null,
   "id": "6d5b287d",
   "metadata": {},
   "outputs": [],
   "source": []
  }
 ],
 "metadata": {
  "kernelspec": {
   "display_name": "Python 3",
   "language": "python",
   "name": "python3"
  },
  "language_info": {
   "codemirror_mode": {
    "name": "ipython",
    "version": 3
   },
   "file_extension": ".py",
   "mimetype": "text/x-python",
   "name": "python",
   "nbconvert_exporter": "python",
   "pygments_lexer": "ipython3",
   "version": "3.8.10"
  }
 },
 "nbformat": 4,
 "nbformat_minor": 5
}
